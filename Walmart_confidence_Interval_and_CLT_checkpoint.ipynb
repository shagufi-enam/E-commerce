{
  "cells": [
    {
      "cell_type": "markdown",
      "metadata": {
        "id": "view-in-github",
        "colab_type": "text"
      },
      "source": [
        "<a href=\"https://colab.research.google.com/github/shagufi-enam/E-commerce/blob/main/Walmart_confidence_Interval_and_CLT_checkpoint.ipynb\" target=\"_parent\"><img src=\"https://colab.research.google.com/assets/colab-badge.svg\" alt=\"Open In Colab\"/></a>"
      ]
    },
    {
      "cell_type": "markdown",
      "id": "5ee64059",
      "metadata": {
        "id": "5ee64059"
      },
      "source": [
        "Business Case: Walmart - Confidence Interval and CLT"
      ]
    },
    {
      "cell_type": "markdown",
      "id": "cf1b8c6d",
      "metadata": {
        "id": "cf1b8c6d"
      },
      "source": [
        "About Walmart:\n",
        "\n",
        "Walmart is an American multinational retail corporation that operates a chain of supercenters, discount departmental stores, and grocery stores from the United States. Walmart has more than 100 million customers worldwide.\n",
        "\n",
        "\n",
        "Business Problem:\n",
        "\n",
        "The Management team at Walmart Inc. wants to analyze the customer purchase behavior (specifically, purchase amount) against the customer’s gender and the various other factors to help the business make better decisions. They want to understand if the spending habits differ between male and female customers: Do women spend more on Black Friday than men? (Assume 50 million customers are male and 50 million are female)."
      ]
    },
    {
      "cell_type": "code",
      "execution_count": 3,
      "id": "92f47a0a",
      "metadata": {
        "id": "92f47a0a"
      },
      "outputs": [],
      "source": [
        "#Import the libraries:\n",
        "\n",
        "import numpy as np\n",
        "import pandas as pd\n",
        "import matplotlib.pyplot as plt\n",
        "import seaborn as sns"
      ]
    },
    {
      "cell_type": "code",
      "execution_count": 4,
      "id": "af7ca3e0",
      "metadata": {
        "id": "af7ca3e0",
        "outputId": "9866d6eb-29ef-47dc-8c54-165cc5173385",
        "colab": {
          "base_uri": "https://localhost:8080/",
          "height": 423
        }
      },
      "outputs": [
        {
          "output_type": "execute_result",
          "data": {
            "text/plain": [
              "        User_ID Product_ID Gender    Age  Occupation City_Category  \\\n",
              "0       1000001  P00069042      F   0-17          10             A   \n",
              "1       1000001  P00248942      F   0-17          10             A   \n",
              "2       1000001  P00087842      F   0-17          10             A   \n",
              "3       1000001  P00085442      F   0-17          10             A   \n",
              "4       1000002  P00285442      M    55+          16             C   \n",
              "...         ...        ...    ...    ...         ...           ...   \n",
              "550063  1006033  P00372445      M  51-55          13             B   \n",
              "550064  1006035  P00375436      F  26-35           1             C   \n",
              "550065  1006036  P00375436      F  26-35          15             B   \n",
              "550066  1006038  P00375436      F    55+           1             C   \n",
              "550067  1006039  P00371644      F  46-50           0             B   \n",
              "\n",
              "       Stay_In_Current_City_Years  Marital_Status  Product_Category  Purchase  \n",
              "0                               2               0                 3      8370  \n",
              "1                               2               0                 1     15200  \n",
              "2                               2               0                12      1422  \n",
              "3                               2               0                12      1057  \n",
              "4                              4+               0                 8      7969  \n",
              "...                           ...             ...               ...       ...  \n",
              "550063                          1               1                20       368  \n",
              "550064                          3               0                20       371  \n",
              "550065                         4+               1                20       137  \n",
              "550066                          2               0                20       365  \n",
              "550067                         4+               1                20       490  \n",
              "\n",
              "[550068 rows x 10 columns]"
            ],
            "text/html": [
              "\n",
              "  <div id=\"df-d4d51189-d14d-482d-80ba-f41b862b6929\" class=\"colab-df-container\">\n",
              "    <div>\n",
              "<style scoped>\n",
              "    .dataframe tbody tr th:only-of-type {\n",
              "        vertical-align: middle;\n",
              "    }\n",
              "\n",
              "    .dataframe tbody tr th {\n",
              "        vertical-align: top;\n",
              "    }\n",
              "\n",
              "    .dataframe thead th {\n",
              "        text-align: right;\n",
              "    }\n",
              "</style>\n",
              "<table border=\"1\" class=\"dataframe\">\n",
              "  <thead>\n",
              "    <tr style=\"text-align: right;\">\n",
              "      <th></th>\n",
              "      <th>User_ID</th>\n",
              "      <th>Product_ID</th>\n",
              "      <th>Gender</th>\n",
              "      <th>Age</th>\n",
              "      <th>Occupation</th>\n",
              "      <th>City_Category</th>\n",
              "      <th>Stay_In_Current_City_Years</th>\n",
              "      <th>Marital_Status</th>\n",
              "      <th>Product_Category</th>\n",
              "      <th>Purchase</th>\n",
              "    </tr>\n",
              "  </thead>\n",
              "  <tbody>\n",
              "    <tr>\n",
              "      <th>0</th>\n",
              "      <td>1000001</td>\n",
              "      <td>P00069042</td>\n",
              "      <td>F</td>\n",
              "      <td>0-17</td>\n",
              "      <td>10</td>\n",
              "      <td>A</td>\n",
              "      <td>2</td>\n",
              "      <td>0</td>\n",
              "      <td>3</td>\n",
              "      <td>8370</td>\n",
              "    </tr>\n",
              "    <tr>\n",
              "      <th>1</th>\n",
              "      <td>1000001</td>\n",
              "      <td>P00248942</td>\n",
              "      <td>F</td>\n",
              "      <td>0-17</td>\n",
              "      <td>10</td>\n",
              "      <td>A</td>\n",
              "      <td>2</td>\n",
              "      <td>0</td>\n",
              "      <td>1</td>\n",
              "      <td>15200</td>\n",
              "    </tr>\n",
              "    <tr>\n",
              "      <th>2</th>\n",
              "      <td>1000001</td>\n",
              "      <td>P00087842</td>\n",
              "      <td>F</td>\n",
              "      <td>0-17</td>\n",
              "      <td>10</td>\n",
              "      <td>A</td>\n",
              "      <td>2</td>\n",
              "      <td>0</td>\n",
              "      <td>12</td>\n",
              "      <td>1422</td>\n",
              "    </tr>\n",
              "    <tr>\n",
              "      <th>3</th>\n",
              "      <td>1000001</td>\n",
              "      <td>P00085442</td>\n",
              "      <td>F</td>\n",
              "      <td>0-17</td>\n",
              "      <td>10</td>\n",
              "      <td>A</td>\n",
              "      <td>2</td>\n",
              "      <td>0</td>\n",
              "      <td>12</td>\n",
              "      <td>1057</td>\n",
              "    </tr>\n",
              "    <tr>\n",
              "      <th>4</th>\n",
              "      <td>1000002</td>\n",
              "      <td>P00285442</td>\n",
              "      <td>M</td>\n",
              "      <td>55+</td>\n",
              "      <td>16</td>\n",
              "      <td>C</td>\n",
              "      <td>4+</td>\n",
              "      <td>0</td>\n",
              "      <td>8</td>\n",
              "      <td>7969</td>\n",
              "    </tr>\n",
              "    <tr>\n",
              "      <th>...</th>\n",
              "      <td>...</td>\n",
              "      <td>...</td>\n",
              "      <td>...</td>\n",
              "      <td>...</td>\n",
              "      <td>...</td>\n",
              "      <td>...</td>\n",
              "      <td>...</td>\n",
              "      <td>...</td>\n",
              "      <td>...</td>\n",
              "      <td>...</td>\n",
              "    </tr>\n",
              "    <tr>\n",
              "      <th>550063</th>\n",
              "      <td>1006033</td>\n",
              "      <td>P00372445</td>\n",
              "      <td>M</td>\n",
              "      <td>51-55</td>\n",
              "      <td>13</td>\n",
              "      <td>B</td>\n",
              "      <td>1</td>\n",
              "      <td>1</td>\n",
              "      <td>20</td>\n",
              "      <td>368</td>\n",
              "    </tr>\n",
              "    <tr>\n",
              "      <th>550064</th>\n",
              "      <td>1006035</td>\n",
              "      <td>P00375436</td>\n",
              "      <td>F</td>\n",
              "      <td>26-35</td>\n",
              "      <td>1</td>\n",
              "      <td>C</td>\n",
              "      <td>3</td>\n",
              "      <td>0</td>\n",
              "      <td>20</td>\n",
              "      <td>371</td>\n",
              "    </tr>\n",
              "    <tr>\n",
              "      <th>550065</th>\n",
              "      <td>1006036</td>\n",
              "      <td>P00375436</td>\n",
              "      <td>F</td>\n",
              "      <td>26-35</td>\n",
              "      <td>15</td>\n",
              "      <td>B</td>\n",
              "      <td>4+</td>\n",
              "      <td>1</td>\n",
              "      <td>20</td>\n",
              "      <td>137</td>\n",
              "    </tr>\n",
              "    <tr>\n",
              "      <th>550066</th>\n",
              "      <td>1006038</td>\n",
              "      <td>P00375436</td>\n",
              "      <td>F</td>\n",
              "      <td>55+</td>\n",
              "      <td>1</td>\n",
              "      <td>C</td>\n",
              "      <td>2</td>\n",
              "      <td>0</td>\n",
              "      <td>20</td>\n",
              "      <td>365</td>\n",
              "    </tr>\n",
              "    <tr>\n",
              "      <th>550067</th>\n",
              "      <td>1006039</td>\n",
              "      <td>P00371644</td>\n",
              "      <td>F</td>\n",
              "      <td>46-50</td>\n",
              "      <td>0</td>\n",
              "      <td>B</td>\n",
              "      <td>4+</td>\n",
              "      <td>1</td>\n",
              "      <td>20</td>\n",
              "      <td>490</td>\n",
              "    </tr>\n",
              "  </tbody>\n",
              "</table>\n",
              "<p>550068 rows × 10 columns</p>\n",
              "</div>\n",
              "    <div class=\"colab-df-buttons\">\n",
              "\n",
              "  <div class=\"colab-df-container\">\n",
              "    <button class=\"colab-df-convert\" onclick=\"convertToInteractive('df-d4d51189-d14d-482d-80ba-f41b862b6929')\"\n",
              "            title=\"Convert this dataframe to an interactive table.\"\n",
              "            style=\"display:none;\">\n",
              "\n",
              "  <svg xmlns=\"http://www.w3.org/2000/svg\" height=\"24px\" viewBox=\"0 -960 960 960\">\n",
              "    <path d=\"M120-120v-720h720v720H120Zm60-500h600v-160H180v160Zm220 220h160v-160H400v160Zm0 220h160v-160H400v160ZM180-400h160v-160H180v160Zm440 0h160v-160H620v160ZM180-180h160v-160H180v160Zm440 0h160v-160H620v160Z\"/>\n",
              "  </svg>\n",
              "    </button>\n",
              "\n",
              "  <style>\n",
              "    .colab-df-container {\n",
              "      display:flex;\n",
              "      gap: 12px;\n",
              "    }\n",
              "\n",
              "    .colab-df-convert {\n",
              "      background-color: #E8F0FE;\n",
              "      border: none;\n",
              "      border-radius: 50%;\n",
              "      cursor: pointer;\n",
              "      display: none;\n",
              "      fill: #1967D2;\n",
              "      height: 32px;\n",
              "      padding: 0 0 0 0;\n",
              "      width: 32px;\n",
              "    }\n",
              "\n",
              "    .colab-df-convert:hover {\n",
              "      background-color: #E2EBFA;\n",
              "      box-shadow: 0px 1px 2px rgba(60, 64, 67, 0.3), 0px 1px 3px 1px rgba(60, 64, 67, 0.15);\n",
              "      fill: #174EA6;\n",
              "    }\n",
              "\n",
              "    .colab-df-buttons div {\n",
              "      margin-bottom: 4px;\n",
              "    }\n",
              "\n",
              "    [theme=dark] .colab-df-convert {\n",
              "      background-color: #3B4455;\n",
              "      fill: #D2E3FC;\n",
              "    }\n",
              "\n",
              "    [theme=dark] .colab-df-convert:hover {\n",
              "      background-color: #434B5C;\n",
              "      box-shadow: 0px 1px 3px 1px rgba(0, 0, 0, 0.15);\n",
              "      filter: drop-shadow(0px 1px 2px rgba(0, 0, 0, 0.3));\n",
              "      fill: #FFFFFF;\n",
              "    }\n",
              "  </style>\n",
              "\n",
              "    <script>\n",
              "      const buttonEl =\n",
              "        document.querySelector('#df-d4d51189-d14d-482d-80ba-f41b862b6929 button.colab-df-convert');\n",
              "      buttonEl.style.display =\n",
              "        google.colab.kernel.accessAllowed ? 'block' : 'none';\n",
              "\n",
              "      async function convertToInteractive(key) {\n",
              "        const element = document.querySelector('#df-d4d51189-d14d-482d-80ba-f41b862b6929');\n",
              "        const dataTable =\n",
              "          await google.colab.kernel.invokeFunction('convertToInteractive',\n",
              "                                                    [key], {});\n",
              "        if (!dataTable) return;\n",
              "\n",
              "        const docLinkHtml = 'Like what you see? Visit the ' +\n",
              "          '<a target=\"_blank\" href=https://colab.research.google.com/notebooks/data_table.ipynb>data table notebook</a>'\n",
              "          + ' to learn more about interactive tables.';\n",
              "        element.innerHTML = '';\n",
              "        dataTable['output_type'] = 'display_data';\n",
              "        await google.colab.output.renderOutput(dataTable, element);\n",
              "        const docLink = document.createElement('div');\n",
              "        docLink.innerHTML = docLinkHtml;\n",
              "        element.appendChild(docLink);\n",
              "      }\n",
              "    </script>\n",
              "  </div>\n",
              "\n",
              "\n",
              "<div id=\"df-ebada357-e1e2-4ada-b268-eb5f7c7696b1\">\n",
              "  <button class=\"colab-df-quickchart\" onclick=\"quickchart('df-ebada357-e1e2-4ada-b268-eb5f7c7696b1')\"\n",
              "            title=\"Suggest charts\"\n",
              "            style=\"display:none;\">\n",
              "\n",
              "<svg xmlns=\"http://www.w3.org/2000/svg\" height=\"24px\"viewBox=\"0 0 24 24\"\n",
              "     width=\"24px\">\n",
              "    <g>\n",
              "        <path d=\"M19 3H5c-1.1 0-2 .9-2 2v14c0 1.1.9 2 2 2h14c1.1 0 2-.9 2-2V5c0-1.1-.9-2-2-2zM9 17H7v-7h2v7zm4 0h-2V7h2v10zm4 0h-2v-4h2v4z\"/>\n",
              "    </g>\n",
              "</svg>\n",
              "  </button>\n",
              "\n",
              "<style>\n",
              "  .colab-df-quickchart {\n",
              "      --bg-color: #E8F0FE;\n",
              "      --fill-color: #1967D2;\n",
              "      --hover-bg-color: #E2EBFA;\n",
              "      --hover-fill-color: #174EA6;\n",
              "      --disabled-fill-color: #AAA;\n",
              "      --disabled-bg-color: #DDD;\n",
              "  }\n",
              "\n",
              "  [theme=dark] .colab-df-quickchart {\n",
              "      --bg-color: #3B4455;\n",
              "      --fill-color: #D2E3FC;\n",
              "      --hover-bg-color: #434B5C;\n",
              "      --hover-fill-color: #FFFFFF;\n",
              "      --disabled-bg-color: #3B4455;\n",
              "      --disabled-fill-color: #666;\n",
              "  }\n",
              "\n",
              "  .colab-df-quickchart {\n",
              "    background-color: var(--bg-color);\n",
              "    border: none;\n",
              "    border-radius: 50%;\n",
              "    cursor: pointer;\n",
              "    display: none;\n",
              "    fill: var(--fill-color);\n",
              "    height: 32px;\n",
              "    padding: 0;\n",
              "    width: 32px;\n",
              "  }\n",
              "\n",
              "  .colab-df-quickchart:hover {\n",
              "    background-color: var(--hover-bg-color);\n",
              "    box-shadow: 0 1px 2px rgba(60, 64, 67, 0.3), 0 1px 3px 1px rgba(60, 64, 67, 0.15);\n",
              "    fill: var(--button-hover-fill-color);\n",
              "  }\n",
              "\n",
              "  .colab-df-quickchart-complete:disabled,\n",
              "  .colab-df-quickchart-complete:disabled:hover {\n",
              "    background-color: var(--disabled-bg-color);\n",
              "    fill: var(--disabled-fill-color);\n",
              "    box-shadow: none;\n",
              "  }\n",
              "\n",
              "  .colab-df-spinner {\n",
              "    border: 2px solid var(--fill-color);\n",
              "    border-color: transparent;\n",
              "    border-bottom-color: var(--fill-color);\n",
              "    animation:\n",
              "      spin 1s steps(1) infinite;\n",
              "  }\n",
              "\n",
              "  @keyframes spin {\n",
              "    0% {\n",
              "      border-color: transparent;\n",
              "      border-bottom-color: var(--fill-color);\n",
              "      border-left-color: var(--fill-color);\n",
              "    }\n",
              "    20% {\n",
              "      border-color: transparent;\n",
              "      border-left-color: var(--fill-color);\n",
              "      border-top-color: var(--fill-color);\n",
              "    }\n",
              "    30% {\n",
              "      border-color: transparent;\n",
              "      border-left-color: var(--fill-color);\n",
              "      border-top-color: var(--fill-color);\n",
              "      border-right-color: var(--fill-color);\n",
              "    }\n",
              "    40% {\n",
              "      border-color: transparent;\n",
              "      border-right-color: var(--fill-color);\n",
              "      border-top-color: var(--fill-color);\n",
              "    }\n",
              "    60% {\n",
              "      border-color: transparent;\n",
              "      border-right-color: var(--fill-color);\n",
              "    }\n",
              "    80% {\n",
              "      border-color: transparent;\n",
              "      border-right-color: var(--fill-color);\n",
              "      border-bottom-color: var(--fill-color);\n",
              "    }\n",
              "    90% {\n",
              "      border-color: transparent;\n",
              "      border-bottom-color: var(--fill-color);\n",
              "    }\n",
              "  }\n",
              "</style>\n",
              "\n",
              "  <script>\n",
              "    async function quickchart(key) {\n",
              "      const quickchartButtonEl =\n",
              "        document.querySelector('#' + key + ' button');\n",
              "      quickchartButtonEl.disabled = true;  // To prevent multiple clicks.\n",
              "      quickchartButtonEl.classList.add('colab-df-spinner');\n",
              "      try {\n",
              "        const charts = await google.colab.kernel.invokeFunction(\n",
              "            'suggestCharts', [key], {});\n",
              "      } catch (error) {\n",
              "        console.error('Error during call to suggestCharts:', error);\n",
              "      }\n",
              "      quickchartButtonEl.classList.remove('colab-df-spinner');\n",
              "      quickchartButtonEl.classList.add('colab-df-quickchart-complete');\n",
              "    }\n",
              "    (() => {\n",
              "      let quickchartButtonEl =\n",
              "        document.querySelector('#df-ebada357-e1e2-4ada-b268-eb5f7c7696b1 button');\n",
              "      quickchartButtonEl.style.display =\n",
              "        google.colab.kernel.accessAllowed ? 'block' : 'none';\n",
              "    })();\n",
              "  </script>\n",
              "</div>\n",
              "\n",
              "  <div id=\"id_a6c51fac-b2dc-42c4-9036-c3b5d0e1a60f\">\n",
              "    <style>\n",
              "      .colab-df-generate {\n",
              "        background-color: #E8F0FE;\n",
              "        border: none;\n",
              "        border-radius: 50%;\n",
              "        cursor: pointer;\n",
              "        display: none;\n",
              "        fill: #1967D2;\n",
              "        height: 32px;\n",
              "        padding: 0 0 0 0;\n",
              "        width: 32px;\n",
              "      }\n",
              "\n",
              "      .colab-df-generate:hover {\n",
              "        background-color: #E2EBFA;\n",
              "        box-shadow: 0px 1px 2px rgba(60, 64, 67, 0.3), 0px 1px 3px 1px rgba(60, 64, 67, 0.15);\n",
              "        fill: #174EA6;\n",
              "      }\n",
              "\n",
              "      [theme=dark] .colab-df-generate {\n",
              "        background-color: #3B4455;\n",
              "        fill: #D2E3FC;\n",
              "      }\n",
              "\n",
              "      [theme=dark] .colab-df-generate:hover {\n",
              "        background-color: #434B5C;\n",
              "        box-shadow: 0px 1px 3px 1px rgba(0, 0, 0, 0.15);\n",
              "        filter: drop-shadow(0px 1px 2px rgba(0, 0, 0, 0.3));\n",
              "        fill: #FFFFFF;\n",
              "      }\n",
              "    </style>\n",
              "    <button class=\"colab-df-generate\" onclick=\"generateWithVariable('df')\"\n",
              "            title=\"Generate code using this dataframe.\"\n",
              "            style=\"display:none;\">\n",
              "\n",
              "  <svg xmlns=\"http://www.w3.org/2000/svg\" height=\"24px\"viewBox=\"0 0 24 24\"\n",
              "       width=\"24px\">\n",
              "    <path d=\"M7,19H8.4L18.45,9,17,7.55,7,17.6ZM5,21V16.75L18.45,3.32a2,2,0,0,1,2.83,0l1.4,1.43a1.91,1.91,0,0,1,.58,1.4,1.91,1.91,0,0,1-.58,1.4L9.25,21ZM18.45,9,17,7.55Zm-12,3A5.31,5.31,0,0,0,4.9,8.1,5.31,5.31,0,0,0,1,6.5,5.31,5.31,0,0,0,4.9,4.9,5.31,5.31,0,0,0,6.5,1,5.31,5.31,0,0,0,8.1,4.9,5.31,5.31,0,0,0,12,6.5,5.46,5.46,0,0,0,6.5,12Z\"/>\n",
              "  </svg>\n",
              "    </button>\n",
              "    <script>\n",
              "      (() => {\n",
              "      const buttonEl =\n",
              "        document.querySelector('#id_a6c51fac-b2dc-42c4-9036-c3b5d0e1a60f button.colab-df-generate');\n",
              "      buttonEl.style.display =\n",
              "        google.colab.kernel.accessAllowed ? 'block' : 'none';\n",
              "\n",
              "      buttonEl.onclick = () => {\n",
              "        google.colab.notebook.generateWithVariable('df');\n",
              "      }\n",
              "      })();\n",
              "    </script>\n",
              "  </div>\n",
              "\n",
              "    </div>\n",
              "  </div>\n"
            ],
            "application/vnd.google.colaboratory.intrinsic+json": {
              "type": "dataframe",
              "variable_name": "df"
            }
          },
          "metadata": {},
          "execution_count": 4
        }
      ],
      "source": [
        "#Read the Walmart data:\n",
        "\n",
        "df = pd.read_csv(\"/content/walmart_data.csv\")\n",
        "df"
      ]
    },
    {
      "cell_type": "code",
      "source": [
        "df.shape"
      ],
      "metadata": {
        "id": "7CgGK8xODWLB",
        "outputId": "ef3b5ee6-7975-45a5-8879-491fd6d2801b",
        "colab": {
          "base_uri": "https://localhost:8080/"
        }
      },
      "id": "7CgGK8xODWLB",
      "execution_count": 13,
      "outputs": [
        {
          "output_type": "execute_result",
          "data": {
            "text/plain": [
              "(550068, 10)"
            ]
          },
          "metadata": {},
          "execution_count": 13
        }
      ]
    },
    {
      "cell_type": "markdown",
      "source": [
        "Above dataset contain 550068 rows and 10 columns."
      ],
      "metadata": {
        "id": "mkusbghfDf33"
      },
      "id": "mkusbghfDf33"
    },
    {
      "cell_type": "code",
      "execution_count": 11,
      "id": "2b4fba50",
      "metadata": {
        "id": "2b4fba50",
        "outputId": "71764862-b8b4-4e78-cd23-d630c186af85",
        "colab": {
          "base_uri": "https://localhost:8080/"
        }
      },
      "outputs": [
        {
          "output_type": "execute_result",
          "data": {
            "text/plain": [
              "User_ID                       0\n",
              "Product_ID                    0\n",
              "Gender                        0\n",
              "Age                           0\n",
              "Occupation                    0\n",
              "City_Category                 0\n",
              "Stay_In_Current_City_Years    0\n",
              "Marital_Status                0\n",
              "Product_Category              0\n",
              "Purchase                      0\n",
              "dtype: int64"
            ]
          },
          "metadata": {},
          "execution_count": 11
        }
      ],
      "source": [
        "#Checking missing values:\n",
        "df.isnull().sum()"
      ]
    },
    {
      "cell_type": "markdown",
      "source": [
        "There is no null and missing value in this dataset."
      ],
      "metadata": {
        "id": "bmZVA2dMC6_6"
      },
      "id": "bmZVA2dMC6_6"
    },
    {
      "cell_type": "code",
      "execution_count": 14,
      "id": "9e917eb6",
      "metadata": {
        "id": "9e917eb6",
        "outputId": "519b7094-c7e7-43ad-a09a-42ca6abad089",
        "colab": {
          "base_uri": "https://localhost:8080/",
          "height": 300
        }
      },
      "outputs": [
        {
          "output_type": "execute_result",
          "data": {
            "text/plain": [
              "            User_ID     Occupation  Marital_Status  Product_Category  \\\n",
              "count  5.500680e+05  550068.000000   550068.000000     550068.000000   \n",
              "mean   1.003029e+06       8.076707        0.409653          5.404270   \n",
              "std    1.727592e+03       6.522660        0.491770          3.936211   \n",
              "min    1.000001e+06       0.000000        0.000000          1.000000   \n",
              "25%    1.001516e+06       2.000000        0.000000          1.000000   \n",
              "50%    1.003077e+06       7.000000        0.000000          5.000000   \n",
              "75%    1.004478e+06      14.000000        1.000000          8.000000   \n",
              "max    1.006040e+06      20.000000        1.000000         20.000000   \n",
              "\n",
              "            Purchase  \n",
              "count  550068.000000  \n",
              "mean     9263.968713  \n",
              "std      5023.065394  \n",
              "min        12.000000  \n",
              "25%      5823.000000  \n",
              "50%      8047.000000  \n",
              "75%     12054.000000  \n",
              "max     23961.000000  "
            ],
            "text/html": [
              "\n",
              "  <div id=\"df-40b9f3bf-befd-4b4c-8a89-688c3e48d389\" class=\"colab-df-container\">\n",
              "    <div>\n",
              "<style scoped>\n",
              "    .dataframe tbody tr th:only-of-type {\n",
              "        vertical-align: middle;\n",
              "    }\n",
              "\n",
              "    .dataframe tbody tr th {\n",
              "        vertical-align: top;\n",
              "    }\n",
              "\n",
              "    .dataframe thead th {\n",
              "        text-align: right;\n",
              "    }\n",
              "</style>\n",
              "<table border=\"1\" class=\"dataframe\">\n",
              "  <thead>\n",
              "    <tr style=\"text-align: right;\">\n",
              "      <th></th>\n",
              "      <th>User_ID</th>\n",
              "      <th>Occupation</th>\n",
              "      <th>Marital_Status</th>\n",
              "      <th>Product_Category</th>\n",
              "      <th>Purchase</th>\n",
              "    </tr>\n",
              "  </thead>\n",
              "  <tbody>\n",
              "    <tr>\n",
              "      <th>count</th>\n",
              "      <td>5.500680e+05</td>\n",
              "      <td>550068.000000</td>\n",
              "      <td>550068.000000</td>\n",
              "      <td>550068.000000</td>\n",
              "      <td>550068.000000</td>\n",
              "    </tr>\n",
              "    <tr>\n",
              "      <th>mean</th>\n",
              "      <td>1.003029e+06</td>\n",
              "      <td>8.076707</td>\n",
              "      <td>0.409653</td>\n",
              "      <td>5.404270</td>\n",
              "      <td>9263.968713</td>\n",
              "    </tr>\n",
              "    <tr>\n",
              "      <th>std</th>\n",
              "      <td>1.727592e+03</td>\n",
              "      <td>6.522660</td>\n",
              "      <td>0.491770</td>\n",
              "      <td>3.936211</td>\n",
              "      <td>5023.065394</td>\n",
              "    </tr>\n",
              "    <tr>\n",
              "      <th>min</th>\n",
              "      <td>1.000001e+06</td>\n",
              "      <td>0.000000</td>\n",
              "      <td>0.000000</td>\n",
              "      <td>1.000000</td>\n",
              "      <td>12.000000</td>\n",
              "    </tr>\n",
              "    <tr>\n",
              "      <th>25%</th>\n",
              "      <td>1.001516e+06</td>\n",
              "      <td>2.000000</td>\n",
              "      <td>0.000000</td>\n",
              "      <td>1.000000</td>\n",
              "      <td>5823.000000</td>\n",
              "    </tr>\n",
              "    <tr>\n",
              "      <th>50%</th>\n",
              "      <td>1.003077e+06</td>\n",
              "      <td>7.000000</td>\n",
              "      <td>0.000000</td>\n",
              "      <td>5.000000</td>\n",
              "      <td>8047.000000</td>\n",
              "    </tr>\n",
              "    <tr>\n",
              "      <th>75%</th>\n",
              "      <td>1.004478e+06</td>\n",
              "      <td>14.000000</td>\n",
              "      <td>1.000000</td>\n",
              "      <td>8.000000</td>\n",
              "      <td>12054.000000</td>\n",
              "    </tr>\n",
              "    <tr>\n",
              "      <th>max</th>\n",
              "      <td>1.006040e+06</td>\n",
              "      <td>20.000000</td>\n",
              "      <td>1.000000</td>\n",
              "      <td>20.000000</td>\n",
              "      <td>23961.000000</td>\n",
              "    </tr>\n",
              "  </tbody>\n",
              "</table>\n",
              "</div>\n",
              "    <div class=\"colab-df-buttons\">\n",
              "\n",
              "  <div class=\"colab-df-container\">\n",
              "    <button class=\"colab-df-convert\" onclick=\"convertToInteractive('df-40b9f3bf-befd-4b4c-8a89-688c3e48d389')\"\n",
              "            title=\"Convert this dataframe to an interactive table.\"\n",
              "            style=\"display:none;\">\n",
              "\n",
              "  <svg xmlns=\"http://www.w3.org/2000/svg\" height=\"24px\" viewBox=\"0 -960 960 960\">\n",
              "    <path d=\"M120-120v-720h720v720H120Zm60-500h600v-160H180v160Zm220 220h160v-160H400v160Zm0 220h160v-160H400v160ZM180-400h160v-160H180v160Zm440 0h160v-160H620v160ZM180-180h160v-160H180v160Zm440 0h160v-160H620v160Z\"/>\n",
              "  </svg>\n",
              "    </button>\n",
              "\n",
              "  <style>\n",
              "    .colab-df-container {\n",
              "      display:flex;\n",
              "      gap: 12px;\n",
              "    }\n",
              "\n",
              "    .colab-df-convert {\n",
              "      background-color: #E8F0FE;\n",
              "      border: none;\n",
              "      border-radius: 50%;\n",
              "      cursor: pointer;\n",
              "      display: none;\n",
              "      fill: #1967D2;\n",
              "      height: 32px;\n",
              "      padding: 0 0 0 0;\n",
              "      width: 32px;\n",
              "    }\n",
              "\n",
              "    .colab-df-convert:hover {\n",
              "      background-color: #E2EBFA;\n",
              "      box-shadow: 0px 1px 2px rgba(60, 64, 67, 0.3), 0px 1px 3px 1px rgba(60, 64, 67, 0.15);\n",
              "      fill: #174EA6;\n",
              "    }\n",
              "\n",
              "    .colab-df-buttons div {\n",
              "      margin-bottom: 4px;\n",
              "    }\n",
              "\n",
              "    [theme=dark] .colab-df-convert {\n",
              "      background-color: #3B4455;\n",
              "      fill: #D2E3FC;\n",
              "    }\n",
              "\n",
              "    [theme=dark] .colab-df-convert:hover {\n",
              "      background-color: #434B5C;\n",
              "      box-shadow: 0px 1px 3px 1px rgba(0, 0, 0, 0.15);\n",
              "      filter: drop-shadow(0px 1px 2px rgba(0, 0, 0, 0.3));\n",
              "      fill: #FFFFFF;\n",
              "    }\n",
              "  </style>\n",
              "\n",
              "    <script>\n",
              "      const buttonEl =\n",
              "        document.querySelector('#df-40b9f3bf-befd-4b4c-8a89-688c3e48d389 button.colab-df-convert');\n",
              "      buttonEl.style.display =\n",
              "        google.colab.kernel.accessAllowed ? 'block' : 'none';\n",
              "\n",
              "      async function convertToInteractive(key) {\n",
              "        const element = document.querySelector('#df-40b9f3bf-befd-4b4c-8a89-688c3e48d389');\n",
              "        const dataTable =\n",
              "          await google.colab.kernel.invokeFunction('convertToInteractive',\n",
              "                                                    [key], {});\n",
              "        if (!dataTable) return;\n",
              "\n",
              "        const docLinkHtml = 'Like what you see? Visit the ' +\n",
              "          '<a target=\"_blank\" href=https://colab.research.google.com/notebooks/data_table.ipynb>data table notebook</a>'\n",
              "          + ' to learn more about interactive tables.';\n",
              "        element.innerHTML = '';\n",
              "        dataTable['output_type'] = 'display_data';\n",
              "        await google.colab.output.renderOutput(dataTable, element);\n",
              "        const docLink = document.createElement('div');\n",
              "        docLink.innerHTML = docLinkHtml;\n",
              "        element.appendChild(docLink);\n",
              "      }\n",
              "    </script>\n",
              "  </div>\n",
              "\n",
              "\n",
              "<div id=\"df-a55db398-460c-4029-a188-f7c71b7bb191\">\n",
              "  <button class=\"colab-df-quickchart\" onclick=\"quickchart('df-a55db398-460c-4029-a188-f7c71b7bb191')\"\n",
              "            title=\"Suggest charts\"\n",
              "            style=\"display:none;\">\n",
              "\n",
              "<svg xmlns=\"http://www.w3.org/2000/svg\" height=\"24px\"viewBox=\"0 0 24 24\"\n",
              "     width=\"24px\">\n",
              "    <g>\n",
              "        <path d=\"M19 3H5c-1.1 0-2 .9-2 2v14c0 1.1.9 2 2 2h14c1.1 0 2-.9 2-2V5c0-1.1-.9-2-2-2zM9 17H7v-7h2v7zm4 0h-2V7h2v10zm4 0h-2v-4h2v4z\"/>\n",
              "    </g>\n",
              "</svg>\n",
              "  </button>\n",
              "\n",
              "<style>\n",
              "  .colab-df-quickchart {\n",
              "      --bg-color: #E8F0FE;\n",
              "      --fill-color: #1967D2;\n",
              "      --hover-bg-color: #E2EBFA;\n",
              "      --hover-fill-color: #174EA6;\n",
              "      --disabled-fill-color: #AAA;\n",
              "      --disabled-bg-color: #DDD;\n",
              "  }\n",
              "\n",
              "  [theme=dark] .colab-df-quickchart {\n",
              "      --bg-color: #3B4455;\n",
              "      --fill-color: #D2E3FC;\n",
              "      --hover-bg-color: #434B5C;\n",
              "      --hover-fill-color: #FFFFFF;\n",
              "      --disabled-bg-color: #3B4455;\n",
              "      --disabled-fill-color: #666;\n",
              "  }\n",
              "\n",
              "  .colab-df-quickchart {\n",
              "    background-color: var(--bg-color);\n",
              "    border: none;\n",
              "    border-radius: 50%;\n",
              "    cursor: pointer;\n",
              "    display: none;\n",
              "    fill: var(--fill-color);\n",
              "    height: 32px;\n",
              "    padding: 0;\n",
              "    width: 32px;\n",
              "  }\n",
              "\n",
              "  .colab-df-quickchart:hover {\n",
              "    background-color: var(--hover-bg-color);\n",
              "    box-shadow: 0 1px 2px rgba(60, 64, 67, 0.3), 0 1px 3px 1px rgba(60, 64, 67, 0.15);\n",
              "    fill: var(--button-hover-fill-color);\n",
              "  }\n",
              "\n",
              "  .colab-df-quickchart-complete:disabled,\n",
              "  .colab-df-quickchart-complete:disabled:hover {\n",
              "    background-color: var(--disabled-bg-color);\n",
              "    fill: var(--disabled-fill-color);\n",
              "    box-shadow: none;\n",
              "  }\n",
              "\n",
              "  .colab-df-spinner {\n",
              "    border: 2px solid var(--fill-color);\n",
              "    border-color: transparent;\n",
              "    border-bottom-color: var(--fill-color);\n",
              "    animation:\n",
              "      spin 1s steps(1) infinite;\n",
              "  }\n",
              "\n",
              "  @keyframes spin {\n",
              "    0% {\n",
              "      border-color: transparent;\n",
              "      border-bottom-color: var(--fill-color);\n",
              "      border-left-color: var(--fill-color);\n",
              "    }\n",
              "    20% {\n",
              "      border-color: transparent;\n",
              "      border-left-color: var(--fill-color);\n",
              "      border-top-color: var(--fill-color);\n",
              "    }\n",
              "    30% {\n",
              "      border-color: transparent;\n",
              "      border-left-color: var(--fill-color);\n",
              "      border-top-color: var(--fill-color);\n",
              "      border-right-color: var(--fill-color);\n",
              "    }\n",
              "    40% {\n",
              "      border-color: transparent;\n",
              "      border-right-color: var(--fill-color);\n",
              "      border-top-color: var(--fill-color);\n",
              "    }\n",
              "    60% {\n",
              "      border-color: transparent;\n",
              "      border-right-color: var(--fill-color);\n",
              "    }\n",
              "    80% {\n",
              "      border-color: transparent;\n",
              "      border-right-color: var(--fill-color);\n",
              "      border-bottom-color: var(--fill-color);\n",
              "    }\n",
              "    90% {\n",
              "      border-color: transparent;\n",
              "      border-bottom-color: var(--fill-color);\n",
              "    }\n",
              "  }\n",
              "</style>\n",
              "\n",
              "  <script>\n",
              "    async function quickchart(key) {\n",
              "      const quickchartButtonEl =\n",
              "        document.querySelector('#' + key + ' button');\n",
              "      quickchartButtonEl.disabled = true;  // To prevent multiple clicks.\n",
              "      quickchartButtonEl.classList.add('colab-df-spinner');\n",
              "      try {\n",
              "        const charts = await google.colab.kernel.invokeFunction(\n",
              "            'suggestCharts', [key], {});\n",
              "      } catch (error) {\n",
              "        console.error('Error during call to suggestCharts:', error);\n",
              "      }\n",
              "      quickchartButtonEl.classList.remove('colab-df-spinner');\n",
              "      quickchartButtonEl.classList.add('colab-df-quickchart-complete');\n",
              "    }\n",
              "    (() => {\n",
              "      let quickchartButtonEl =\n",
              "        document.querySelector('#df-a55db398-460c-4029-a188-f7c71b7bb191 button');\n",
              "      quickchartButtonEl.style.display =\n",
              "        google.colab.kernel.accessAllowed ? 'block' : 'none';\n",
              "    })();\n",
              "  </script>\n",
              "</div>\n",
              "\n",
              "    </div>\n",
              "  </div>\n"
            ],
            "application/vnd.google.colaboratory.intrinsic+json": {
              "type": "dataframe",
              "summary": "{\n  \"name\": \"df\",\n  \"rows\": 8,\n  \"fields\": [\n    {\n      \"column\": \"User_ID\",\n      \"properties\": {\n        \"dtype\": \"number\",\n        \"std\": 367117.89753373514,\n        \"min\": 1727.5915855305516,\n        \"max\": 1006040.0,\n        \"num_unique_values\": 8,\n        \"samples\": [\n          1003028.8424013031,\n          1003077.0,\n          550068.0\n        ],\n        \"semantic_type\": \"\",\n        \"description\": \"\"\n      }\n    },\n    {\n      \"column\": \"Occupation\",\n      \"properties\": {\n        \"dtype\": \"number\",\n        \"std\": 194475.49735336297,\n        \"min\": 0.0,\n        \"max\": 550068.0,\n        \"num_unique_values\": 8,\n        \"samples\": [\n          8.076706879876669,\n          7.0,\n          550068.0\n        ],\n        \"semantic_type\": \"\",\n        \"description\": \"\"\n      }\n    },\n    {\n      \"column\": \"Marital_Status\",\n      \"properties\": {\n        \"dtype\": \"number\",\n        \"std\": 194478.25991330715,\n        \"min\": 0.0,\n        \"max\": 550068.0,\n        \"num_unique_values\": 5,\n        \"samples\": [\n          0.40965298835780306,\n          1.0,\n          0.49177012631733\n        ],\n        \"semantic_type\": \"\",\n        \"description\": \"\"\n      }\n    },\n    {\n      \"column\": \"Product_Category\",\n      \"properties\": {\n        \"dtype\": \"number\",\n        \"std\": 194476.16701795228,\n        \"min\": 1.0,\n        \"max\": 550068.0,\n        \"num_unique_values\": 7,\n        \"samples\": [\n          550068.0,\n          5.404270017525106,\n          8.0\n        ],\n        \"semantic_type\": \"\",\n        \"description\": \"\"\n      }\n    },\n    {\n      \"column\": \"Purchase\",\n      \"properties\": {\n        \"dtype\": \"number\",\n        \"std\": 191363.80903912007,\n        \"min\": 12.0,\n        \"max\": 550068.0,\n        \"num_unique_values\": 8,\n        \"samples\": [\n          9263.968712959126,\n          8047.0,\n          550068.0\n        ],\n        \"semantic_type\": \"\",\n        \"description\": \"\"\n      }\n    }\n  ]\n}"
            }
          },
          "metadata": {},
          "execution_count": 14
        }
      ],
      "source": [
        "#Checking the descriptive statistics  of the data:\n",
        "df.describe()"
      ]
    },
    {
      "cell_type": "markdown",
      "source": [
        "If we didn't pass any arguments in the describe it'll only return statistics for the numeric features"
      ],
      "metadata": {
        "id": "z7EbwW0CE9EO"
      },
      "id": "z7EbwW0CE9EO"
    },
    {
      "cell_type": "markdown",
      "source": [
        "The average purchase is 9263.96 and the maximum purchase is 23961, so the average value is sensitive to outliers, but the fact that the mean is so small compared to the maximum value indicates the maximum value is an outlier."
      ],
      "metadata": {
        "id": "6ItbIWMcIG79"
      },
      "id": "6ItbIWMcIG79"
    },
    {
      "cell_type": "code",
      "execution_count": null,
      "id": "0f1f326d",
      "metadata": {
        "id": "0f1f326d",
        "outputId": "524b0cce-462a-446e-af03-4fe2f8a5e8b8"
      },
      "outputs": [
        {
          "name": "stdout",
          "output_type": "stream",
          "text": [
            "<class 'pandas.core.frame.DataFrame'>\n",
            "RangeIndex: 550068 entries, 0 to 550067\n",
            "Data columns (total 10 columns):\n",
            " #   Column                      Non-Null Count   Dtype \n",
            "---  ------                      --------------   ----- \n",
            " 0   User_ID                     550068 non-null  int64 \n",
            " 1   Product_ID                  550068 non-null  object\n",
            " 2   Gender                      550068 non-null  object\n",
            " 3   Age                         550068 non-null  object\n",
            " 4   Occupation                  550068 non-null  int64 \n",
            " 5   City_Category               550068 non-null  object\n",
            " 6   Stay_In_Current_City_Years  550068 non-null  object\n",
            " 7   Marital_Status              550068 non-null  int64 \n",
            " 8   Product_Category            550068 non-null  int64 \n",
            " 9   Purchase                    550068 non-null  int64 \n",
            "dtypes: int64(5), object(5)\n",
            "memory usage: 42.0+ MB\n"
          ]
        }
      ],
      "source": [
        "df.info()"
      ]
    },
    {
      "cell_type": "code",
      "source": [
        "# Changing datatype int64 to object\n",
        "columns = ['Occupation','Marital_Status','Product_Category']\n",
        "df[columns] = df[columns].astype('object')"
      ],
      "metadata": {
        "id": "buCAuT7bGOBh"
      },
      "id": "buCAuT7bGOBh",
      "execution_count": 16,
      "outputs": []
    },
    {
      "cell_type": "code",
      "execution_count": 17,
      "id": "3240fa96",
      "metadata": {
        "id": "3240fa96",
        "outputId": "7863fc99-3943-4cef-e018-25481b7bca38",
        "colab": {
          "base_uri": "https://localhost:8080/"
        }
      },
      "outputs": [
        {
          "output_type": "stream",
          "name": "stdout",
          "text": [
            "<class 'pandas.core.frame.DataFrame'>\n",
            "RangeIndex: 550068 entries, 0 to 550067\n",
            "Data columns (total 10 columns):\n",
            " #   Column                      Non-Null Count   Dtype \n",
            "---  ------                      --------------   ----- \n",
            " 0   User_ID                     550068 non-null  int64 \n",
            " 1   Product_ID                  550068 non-null  object\n",
            " 2   Gender                      550068 non-null  object\n",
            " 3   Age                         550068 non-null  object\n",
            " 4   Occupation                  550068 non-null  object\n",
            " 5   City_Category               550068 non-null  object\n",
            " 6   Stay_In_Current_City_Years  550068 non-null  object\n",
            " 7   Marital_Status              550068 non-null  object\n",
            " 8   Product_Category            550068 non-null  object\n",
            " 9   Purchase                    550068 non-null  int64 \n",
            "dtypes: int64(2), object(8)\n",
            "memory usage: 42.0+ MB\n"
          ]
        }
      ],
      "source": [
        "df.info()"
      ]
    },
    {
      "cell_type": "code",
      "execution_count": 18,
      "id": "ff3b4240",
      "metadata": {
        "id": "ff3b4240",
        "outputId": "ba0c8dba-f845-4b85-c722-b3a097cd987e",
        "colab": {
          "base_uri": "https://localhost:8080/",
          "height": 174
        }
      },
      "outputs": [
        {
          "output_type": "execute_result",
          "data": {
            "text/plain": [
              "       Product_ID  Gender     Age  Occupation City_Category  \\\n",
              "count      550068  550068  550068      550068        550068   \n",
              "unique       3631       2       7          21             3   \n",
              "top     P00265242       M   26-35           4             B   \n",
              "freq         1880  414259  219587       72308        231173   \n",
              "\n",
              "       Stay_In_Current_City_Years  Marital_Status  Product_Category  \n",
              "count                      550068          550068            550068  \n",
              "unique                          5               2                20  \n",
              "top                             1               0                 5  \n",
              "freq                       193821          324731            150933  "
            ],
            "text/html": [
              "\n",
              "  <div id=\"df-7fb242fe-a3d6-4853-90ba-cd8a1cccd674\" class=\"colab-df-container\">\n",
              "    <div>\n",
              "<style scoped>\n",
              "    .dataframe tbody tr th:only-of-type {\n",
              "        vertical-align: middle;\n",
              "    }\n",
              "\n",
              "    .dataframe tbody tr th {\n",
              "        vertical-align: top;\n",
              "    }\n",
              "\n",
              "    .dataframe thead th {\n",
              "        text-align: right;\n",
              "    }\n",
              "</style>\n",
              "<table border=\"1\" class=\"dataframe\">\n",
              "  <thead>\n",
              "    <tr style=\"text-align: right;\">\n",
              "      <th></th>\n",
              "      <th>Product_ID</th>\n",
              "      <th>Gender</th>\n",
              "      <th>Age</th>\n",
              "      <th>Occupation</th>\n",
              "      <th>City_Category</th>\n",
              "      <th>Stay_In_Current_City_Years</th>\n",
              "      <th>Marital_Status</th>\n",
              "      <th>Product_Category</th>\n",
              "    </tr>\n",
              "  </thead>\n",
              "  <tbody>\n",
              "    <tr>\n",
              "      <th>count</th>\n",
              "      <td>550068</td>\n",
              "      <td>550068</td>\n",
              "      <td>550068</td>\n",
              "      <td>550068</td>\n",
              "      <td>550068</td>\n",
              "      <td>550068</td>\n",
              "      <td>550068</td>\n",
              "      <td>550068</td>\n",
              "    </tr>\n",
              "    <tr>\n",
              "      <th>unique</th>\n",
              "      <td>3631</td>\n",
              "      <td>2</td>\n",
              "      <td>7</td>\n",
              "      <td>21</td>\n",
              "      <td>3</td>\n",
              "      <td>5</td>\n",
              "      <td>2</td>\n",
              "      <td>20</td>\n",
              "    </tr>\n",
              "    <tr>\n",
              "      <th>top</th>\n",
              "      <td>P00265242</td>\n",
              "      <td>M</td>\n",
              "      <td>26-35</td>\n",
              "      <td>4</td>\n",
              "      <td>B</td>\n",
              "      <td>1</td>\n",
              "      <td>0</td>\n",
              "      <td>5</td>\n",
              "    </tr>\n",
              "    <tr>\n",
              "      <th>freq</th>\n",
              "      <td>1880</td>\n",
              "      <td>414259</td>\n",
              "      <td>219587</td>\n",
              "      <td>72308</td>\n",
              "      <td>231173</td>\n",
              "      <td>193821</td>\n",
              "      <td>324731</td>\n",
              "      <td>150933</td>\n",
              "    </tr>\n",
              "  </tbody>\n",
              "</table>\n",
              "</div>\n",
              "    <div class=\"colab-df-buttons\">\n",
              "\n",
              "  <div class=\"colab-df-container\">\n",
              "    <button class=\"colab-df-convert\" onclick=\"convertToInteractive('df-7fb242fe-a3d6-4853-90ba-cd8a1cccd674')\"\n",
              "            title=\"Convert this dataframe to an interactive table.\"\n",
              "            style=\"display:none;\">\n",
              "\n",
              "  <svg xmlns=\"http://www.w3.org/2000/svg\" height=\"24px\" viewBox=\"0 -960 960 960\">\n",
              "    <path d=\"M120-120v-720h720v720H120Zm60-500h600v-160H180v160Zm220 220h160v-160H400v160Zm0 220h160v-160H400v160ZM180-400h160v-160H180v160Zm440 0h160v-160H620v160ZM180-180h160v-160H180v160Zm440 0h160v-160H620v160Z\"/>\n",
              "  </svg>\n",
              "    </button>\n",
              "\n",
              "  <style>\n",
              "    .colab-df-container {\n",
              "      display:flex;\n",
              "      gap: 12px;\n",
              "    }\n",
              "\n",
              "    .colab-df-convert {\n",
              "      background-color: #E8F0FE;\n",
              "      border: none;\n",
              "      border-radius: 50%;\n",
              "      cursor: pointer;\n",
              "      display: none;\n",
              "      fill: #1967D2;\n",
              "      height: 32px;\n",
              "      padding: 0 0 0 0;\n",
              "      width: 32px;\n",
              "    }\n",
              "\n",
              "    .colab-df-convert:hover {\n",
              "      background-color: #E2EBFA;\n",
              "      box-shadow: 0px 1px 2px rgba(60, 64, 67, 0.3), 0px 1px 3px 1px rgba(60, 64, 67, 0.15);\n",
              "      fill: #174EA6;\n",
              "    }\n",
              "\n",
              "    .colab-df-buttons div {\n",
              "      margin-bottom: 4px;\n",
              "    }\n",
              "\n",
              "    [theme=dark] .colab-df-convert {\n",
              "      background-color: #3B4455;\n",
              "      fill: #D2E3FC;\n",
              "    }\n",
              "\n",
              "    [theme=dark] .colab-df-convert:hover {\n",
              "      background-color: #434B5C;\n",
              "      box-shadow: 0px 1px 3px 1px rgba(0, 0, 0, 0.15);\n",
              "      filter: drop-shadow(0px 1px 2px rgba(0, 0, 0, 0.3));\n",
              "      fill: #FFFFFF;\n",
              "    }\n",
              "  </style>\n",
              "\n",
              "    <script>\n",
              "      const buttonEl =\n",
              "        document.querySelector('#df-7fb242fe-a3d6-4853-90ba-cd8a1cccd674 button.colab-df-convert');\n",
              "      buttonEl.style.display =\n",
              "        google.colab.kernel.accessAllowed ? 'block' : 'none';\n",
              "\n",
              "      async function convertToInteractive(key) {\n",
              "        const element = document.querySelector('#df-7fb242fe-a3d6-4853-90ba-cd8a1cccd674');\n",
              "        const dataTable =\n",
              "          await google.colab.kernel.invokeFunction('convertToInteractive',\n",
              "                                                    [key], {});\n",
              "        if (!dataTable) return;\n",
              "\n",
              "        const docLinkHtml = 'Like what you see? Visit the ' +\n",
              "          '<a target=\"_blank\" href=https://colab.research.google.com/notebooks/data_table.ipynb>data table notebook</a>'\n",
              "          + ' to learn more about interactive tables.';\n",
              "        element.innerHTML = '';\n",
              "        dataTable['output_type'] = 'display_data';\n",
              "        await google.colab.output.renderOutput(dataTable, element);\n",
              "        const docLink = document.createElement('div');\n",
              "        docLink.innerHTML = docLinkHtml;\n",
              "        element.appendChild(docLink);\n",
              "      }\n",
              "    </script>\n",
              "  </div>\n",
              "\n",
              "\n",
              "<div id=\"df-d2425ea6-ddb0-4b97-945c-cfdbf07101f0\">\n",
              "  <button class=\"colab-df-quickchart\" onclick=\"quickchart('df-d2425ea6-ddb0-4b97-945c-cfdbf07101f0')\"\n",
              "            title=\"Suggest charts\"\n",
              "            style=\"display:none;\">\n",
              "\n",
              "<svg xmlns=\"http://www.w3.org/2000/svg\" height=\"24px\"viewBox=\"0 0 24 24\"\n",
              "     width=\"24px\">\n",
              "    <g>\n",
              "        <path d=\"M19 3H5c-1.1 0-2 .9-2 2v14c0 1.1.9 2 2 2h14c1.1 0 2-.9 2-2V5c0-1.1-.9-2-2-2zM9 17H7v-7h2v7zm4 0h-2V7h2v10zm4 0h-2v-4h2v4z\"/>\n",
              "    </g>\n",
              "</svg>\n",
              "  </button>\n",
              "\n",
              "<style>\n",
              "  .colab-df-quickchart {\n",
              "      --bg-color: #E8F0FE;\n",
              "      --fill-color: #1967D2;\n",
              "      --hover-bg-color: #E2EBFA;\n",
              "      --hover-fill-color: #174EA6;\n",
              "      --disabled-fill-color: #AAA;\n",
              "      --disabled-bg-color: #DDD;\n",
              "  }\n",
              "\n",
              "  [theme=dark] .colab-df-quickchart {\n",
              "      --bg-color: #3B4455;\n",
              "      --fill-color: #D2E3FC;\n",
              "      --hover-bg-color: #434B5C;\n",
              "      --hover-fill-color: #FFFFFF;\n",
              "      --disabled-bg-color: #3B4455;\n",
              "      --disabled-fill-color: #666;\n",
              "  }\n",
              "\n",
              "  .colab-df-quickchart {\n",
              "    background-color: var(--bg-color);\n",
              "    border: none;\n",
              "    border-radius: 50%;\n",
              "    cursor: pointer;\n",
              "    display: none;\n",
              "    fill: var(--fill-color);\n",
              "    height: 32px;\n",
              "    padding: 0;\n",
              "    width: 32px;\n",
              "  }\n",
              "\n",
              "  .colab-df-quickchart:hover {\n",
              "    background-color: var(--hover-bg-color);\n",
              "    box-shadow: 0 1px 2px rgba(60, 64, 67, 0.3), 0 1px 3px 1px rgba(60, 64, 67, 0.15);\n",
              "    fill: var(--button-hover-fill-color);\n",
              "  }\n",
              "\n",
              "  .colab-df-quickchart-complete:disabled,\n",
              "  .colab-df-quickchart-complete:disabled:hover {\n",
              "    background-color: var(--disabled-bg-color);\n",
              "    fill: var(--disabled-fill-color);\n",
              "    box-shadow: none;\n",
              "  }\n",
              "\n",
              "  .colab-df-spinner {\n",
              "    border: 2px solid var(--fill-color);\n",
              "    border-color: transparent;\n",
              "    border-bottom-color: var(--fill-color);\n",
              "    animation:\n",
              "      spin 1s steps(1) infinite;\n",
              "  }\n",
              "\n",
              "  @keyframes spin {\n",
              "    0% {\n",
              "      border-color: transparent;\n",
              "      border-bottom-color: var(--fill-color);\n",
              "      border-left-color: var(--fill-color);\n",
              "    }\n",
              "    20% {\n",
              "      border-color: transparent;\n",
              "      border-left-color: var(--fill-color);\n",
              "      border-top-color: var(--fill-color);\n",
              "    }\n",
              "    30% {\n",
              "      border-color: transparent;\n",
              "      border-left-color: var(--fill-color);\n",
              "      border-top-color: var(--fill-color);\n",
              "      border-right-color: var(--fill-color);\n",
              "    }\n",
              "    40% {\n",
              "      border-color: transparent;\n",
              "      border-right-color: var(--fill-color);\n",
              "      border-top-color: var(--fill-color);\n",
              "    }\n",
              "    60% {\n",
              "      border-color: transparent;\n",
              "      border-right-color: var(--fill-color);\n",
              "    }\n",
              "    80% {\n",
              "      border-color: transparent;\n",
              "      border-right-color: var(--fill-color);\n",
              "      border-bottom-color: var(--fill-color);\n",
              "    }\n",
              "    90% {\n",
              "      border-color: transparent;\n",
              "      border-bottom-color: var(--fill-color);\n",
              "    }\n",
              "  }\n",
              "</style>\n",
              "\n",
              "  <script>\n",
              "    async function quickchart(key) {\n",
              "      const quickchartButtonEl =\n",
              "        document.querySelector('#' + key + ' button');\n",
              "      quickchartButtonEl.disabled = true;  // To prevent multiple clicks.\n",
              "      quickchartButtonEl.classList.add('colab-df-spinner');\n",
              "      try {\n",
              "        const charts = await google.colab.kernel.invokeFunction(\n",
              "            'suggestCharts', [key], {});\n",
              "      } catch (error) {\n",
              "        console.error('Error during call to suggestCharts:', error);\n",
              "      }\n",
              "      quickchartButtonEl.classList.remove('colab-df-spinner');\n",
              "      quickchartButtonEl.classList.add('colab-df-quickchart-complete');\n",
              "    }\n",
              "    (() => {\n",
              "      let quickchartButtonEl =\n",
              "        document.querySelector('#df-d2425ea6-ddb0-4b97-945c-cfdbf07101f0 button');\n",
              "      quickchartButtonEl.style.display =\n",
              "        google.colab.kernel.accessAllowed ? 'block' : 'none';\n",
              "    })();\n",
              "  </script>\n",
              "</div>\n",
              "\n",
              "    </div>\n",
              "  </div>\n"
            ],
            "application/vnd.google.colaboratory.intrinsic+json": {
              "type": "dataframe",
              "summary": "{\n  \"name\": \"df\",\n  \"rows\": 4,\n  \"fields\": [\n    {\n      \"column\": \"Product_ID\",\n      \"properties\": {\n        \"dtype\": \"string\",\n        \"num_unique_values\": 4,\n        \"samples\": [\n          3631,\n          \"1880\",\n          \"550068\"\n        ],\n        \"semantic_type\": \"\",\n        \"description\": \"\"\n      }\n    },\n    {\n      \"column\": \"Gender\",\n      \"properties\": {\n        \"dtype\": \"string\",\n        \"num_unique_values\": 4,\n        \"samples\": [\n          2,\n          \"414259\",\n          \"550068\"\n        ],\n        \"semantic_type\": \"\",\n        \"description\": \"\"\n      }\n    },\n    {\n      \"column\": \"Age\",\n      \"properties\": {\n        \"dtype\": \"string\",\n        \"num_unique_values\": 4,\n        \"samples\": [\n          7,\n          \"219587\",\n          \"550068\"\n        ],\n        \"semantic_type\": \"\",\n        \"description\": \"\"\n      }\n    },\n    {\n      \"column\": \"Occupation\",\n      \"properties\": {\n        \"dtype\": \"number\",\n        \"std\": 265177,\n        \"min\": 4,\n        \"max\": 550068,\n        \"num_unique_values\": 4,\n        \"samples\": [\n          21,\n          72308,\n          550068\n        ],\n        \"semantic_type\": \"\",\n        \"description\": \"\"\n      }\n    },\n    {\n      \"column\": \"City_Category\",\n      \"properties\": {\n        \"dtype\": \"string\",\n        \"num_unique_values\": 4,\n        \"samples\": [\n          3,\n          \"231173\",\n          \"550068\"\n        ],\n        \"semantic_type\": \"\",\n        \"description\": \"\"\n      }\n    },\n    {\n      \"column\": \"Stay_In_Current_City_Years\",\n      \"properties\": {\n        \"dtype\": \"string\",\n        \"num_unique_values\": 4,\n        \"samples\": [\n          5,\n          \"193821\",\n          \"550068\"\n        ],\n        \"semantic_type\": \"\",\n        \"description\": \"\"\n      }\n    },\n    {\n      \"column\": \"Marital_Status\",\n      \"properties\": {\n        \"dtype\": \"number\",\n        \"std\": 268766,\n        \"min\": 0,\n        \"max\": 550068,\n        \"num_unique_values\": 4,\n        \"samples\": [\n          2,\n          324731,\n          550068\n        ],\n        \"semantic_type\": \"\",\n        \"description\": \"\"\n      }\n    },\n    {\n      \"column\": \"Product_Category\",\n      \"properties\": {\n        \"dtype\": \"number\",\n        \"std\": 259805,\n        \"min\": 5,\n        \"max\": 550068,\n        \"num_unique_values\": 4,\n        \"samples\": [\n          20,\n          150933,\n          550068\n        ],\n        \"semantic_type\": \"\",\n        \"description\": \"\"\n      }\n    }\n  ]\n}"
            }
          },
          "metadata": {},
          "execution_count": 18
        }
      ],
      "source": [
        "df.describe(include='object')"
      ]
    },
    {
      "cell_type": "markdown",
      "id": "94e1509d",
      "metadata": {
        "id": "94e1509d"
      },
      "source": [
        "Observation post modifying the categorical variable's data type:\n",
        "\n",
        "1. There are 3631 unique product_id, andproduct_id 550068 being with the highest count.\n",
        "2. The customers belongs to 21 distinct occupation for the purchases being made with Occupation 4 being the highest.\n",
        "3. Marital status unmarried contribute more in terms of the count for the purchase.\n",
        "4. There are 20 unique product categories with 5 being the highest.\n",
        "5.The top people purchasing are in the age range of 26–35.\n",
        "6. Males are top in purchasing."
      ]
    },
    {
      "cell_type": "markdown",
      "source": [
        "# Non-Graphical Analysis: Value counts and unique attributes"
      ],
      "metadata": {
        "id": "OJBsdb4fJnzX"
      },
      "id": "OJBsdb4fJnzX"
    },
    {
      "cell_type": "code",
      "source": [
        "df[\"Gender\"].value_counts(normalize=True)*100"
      ],
      "metadata": {
        "id": "Ok30tsuXJkrM",
        "outputId": "cba8233b-1378-4ad8-bde8-3f61e84b7336",
        "colab": {
          "base_uri": "https://localhost:8080/"
        }
      },
      "id": "Ok30tsuXJkrM",
      "execution_count": 19,
      "outputs": [
        {
          "output_type": "execute_result",
          "data": {
            "text/plain": [
              "Gender\n",
              "M    75.310507\n",
              "F    24.689493\n",
              "Name: proportion, dtype: float64"
            ]
          },
          "metadata": {},
          "execution_count": 19
        }
      ]
    },
    {
      "cell_type": "code",
      "source": [
        "df[\"Age\"].value_counts(normalize=True)*100"
      ],
      "metadata": {
        "id": "E6JSz5S0KE5s",
        "outputId": "b442d2cb-4d7a-4c6f-8ff0-e862e826cef2",
        "colab": {
          "base_uri": "https://localhost:8080/"
        }
      },
      "id": "E6JSz5S0KE5s",
      "execution_count": 20,
      "outputs": [
        {
          "output_type": "execute_result",
          "data": {
            "text/plain": [
              "Age\n",
              "26-35    39.919974\n",
              "36-45    19.999891\n",
              "18-25    18.117760\n",
              "46-50     8.308246\n",
              "51-55     6.999316\n",
              "55+       3.909335\n",
              "0-17      2.745479\n",
              "Name: proportion, dtype: float64"
            ]
          },
          "metadata": {},
          "execution_count": 20
        }
      ]
    },
    {
      "cell_type": "code",
      "source": [
        "df[\"Marital_Status\"].value_counts(normalize=True)*100"
      ],
      "metadata": {
        "id": "WxRUxgGhKX8U",
        "outputId": "9d47dc48-ec71-4c20-d641-afd15c69b247",
        "colab": {
          "base_uri": "https://localhost:8080/"
        }
      },
      "id": "WxRUxgGhKX8U",
      "execution_count": 21,
      "outputs": [
        {
          "output_type": "execute_result",
          "data": {
            "text/plain": [
              "Marital_Status\n",
              "0    59.034701\n",
              "1    40.965299\n",
              "Name: proportion, dtype: float64"
            ]
          },
          "metadata": {},
          "execution_count": 21
        }
      ]
    },
    {
      "cell_type": "code",
      "source": [
        " df['Stay_In_Current_City_Years'].value_counts(normalize=True)*100"
      ],
      "metadata": {
        "id": "tvSh6a-CK576",
        "outputId": "b03ae642-6d87-4f93-c391-3873cceb3520",
        "colab": {
          "base_uri": "https://localhost:8080/"
        }
      },
      "id": "tvSh6a-CK576",
      "execution_count": 22,
      "outputs": [
        {
          "output_type": "execute_result",
          "data": {
            "text/plain": [
              "Stay_In_Current_City_Years\n",
              "1     35.235825\n",
              "2     18.513711\n",
              "3     17.322404\n",
              "4+    15.402823\n",
              "0     13.525237\n",
              "Name: proportion, dtype: float64"
            ]
          },
          "metadata": {},
          "execution_count": 22
        }
      ]
    },
    {
      "cell_type": "markdown",
      "source": [
        "# Insights :\n",
        "1) 75% of users are male and 25% are female.\n",
        "\n",
        "2) Users ages 26–35 are 40%, users ages 36–45 are 20%, users ages 18–25 are 18%,\n",
        "and very low users ages ( 0–17 & 55+ )are 5%.\n",
        "\n",
        "3) 35% stay in a city for 1 year, 18% stay in a city for 2 years, 17% stay in a city for 3 years,\n",
        "and 15% stay in a city for more than 4 years.\n",
        "\n",
        "4)60% users are unmarried and 40% users are married."
      ],
      "metadata": {
        "id": "0xqQJSH4LOU4"
      },
      "id": "0xqQJSH4LOU4"
    },
    {
      "cell_type": "markdown",
      "source": [
        "Unique attributes"
      ],
      "metadata": {
        "id": "OP2DF8tkMH_0"
      },
      "id": "OP2DF8tkMH_0"
    },
    {
      "cell_type": "code",
      "source": [
        "unique_category= df['Product_Category'].nunique()\n",
        "unique_category"
      ],
      "metadata": {
        "id": "Nef0Pd1CMMJY",
        "outputId": "ed17f0f6-709f-42f5-8e16-4ed94e9e0b69",
        "colab": {
          "base_uri": "https://localhost:8080/"
        }
      },
      "id": "Nef0Pd1CMMJY",
      "execution_count": 23,
      "outputs": [
        {
          "output_type": "execute_result",
          "data": {
            "text/plain": [
              "20"
            ]
          },
          "metadata": {},
          "execution_count": 23
        }
      ]
    },
    {
      "cell_type": "code",
      "source": [
        "unique_City_Category_count = df['City_Category'].nunique()\n",
        "unique_City_Category_count"
      ],
      "metadata": {
        "id": "LsnHKSIKNA4U",
        "outputId": "9c4efc6f-4eb3-4386-8fce-52285319ec26",
        "colab": {
          "base_uri": "https://localhost:8080/"
        }
      },
      "id": "LsnHKSIKNA4U",
      "execution_count": 25,
      "outputs": [
        {
          "output_type": "execute_result",
          "data": {
            "text/plain": [
              "3"
            ]
          },
          "metadata": {},
          "execution_count": 25
        }
      ]
    },
    {
      "cell_type": "code",
      "source": [
        "unique_Product_ID_count = df['Product_ID'].nunique()\n",
        "unique_Product_ID_count"
      ],
      "metadata": {
        "id": "tdzym7y5NH43",
        "outputId": "31d2dfec-6ca1-4645-e669-5ee2fa1ea7ce",
        "colab": {
          "base_uri": "https://localhost:8080/"
        }
      },
      "id": "tdzym7y5NH43",
      "execution_count": 26,
      "outputs": [
        {
          "output_type": "execute_result",
          "data": {
            "text/plain": [
              "3631"
            ]
          },
          "metadata": {},
          "execution_count": 26
        }
      ]
    },
    {
      "cell_type": "code",
      "source": [
        "unique_User_ID_count=df[\"User_ID\"].nunique()\n",
        "unique_User_ID_count"
      ],
      "metadata": {
        "id": "l-fp99mwNR_h",
        "outputId": "26b26247-1a2e-401f-c042-59b9664dabf6",
        "colab": {
          "base_uri": "https://localhost:8080/"
        }
      },
      "id": "l-fp99mwNR_h",
      "execution_count": 30,
      "outputs": [
        {
          "output_type": "execute_result",
          "data": {
            "text/plain": [
              "5891"
            ]
          },
          "metadata": {},
          "execution_count": 30
        }
      ]
    },
    {
      "cell_type": "code",
      "source": [
        "df.groupby('Gender')['User_ID'].nunique()\n"
      ],
      "metadata": {
        "id": "NA7SQy_qMmT3",
        "outputId": "4dd0ed8b-a261-4407-c9c6-4d45516b6a48",
        "colab": {
          "base_uri": "https://localhost:8080/"
        }
      },
      "id": "NA7SQy_qMmT3",
      "execution_count": 24,
      "outputs": [
        {
          "output_type": "execute_result",
          "data": {
            "text/plain": [
              "Gender\n",
              "F    1666\n",
              "M    4225\n",
              "Name: User_ID, dtype: int64"
            ]
          },
          "metadata": {},
          "execution_count": 24
        }
      ]
    },
    {
      "cell_type": "markdown",
      "source": [
        "# Insights :\n",
        "1) The total product category count is 20 unique products.\n",
        "\n",
        "2) The total number of unique city categories is three.\n",
        "\n",
        "3) The total number of unique product IDs is 3631.\n",
        "\n",
        "4) The total number of unique user IDs is 5891.\n",
        "\n",
        "5)the total number male user is 4225 who is purchasing product and 1666 female."
      ],
      "metadata": {
        "id": "GF3JOCQNN5go"
      },
      "id": "GF3JOCQNN5go"
    },
    {
      "cell_type": "code",
      "execution_count": 31,
      "id": "2eb999b0",
      "metadata": {
        "id": "2eb999b0",
        "outputId": "a450ddfe-54e6-4dd3-a9f0-c4b116778bea",
        "colab": {
          "base_uri": "https://localhost:8080/"
        }
      },
      "outputs": [
        {
          "output_type": "execute_result",
          "data": {
            "text/plain": [
              "Marital_Status\n",
              "0    3417\n",
              "1    2474\n",
              "Name: User_ID, dtype: int64"
            ]
          },
          "metadata": {},
          "execution_count": 31
        }
      ],
      "source": [
        "df.groupby(\"Marital_Status\")[\"User_ID\"].nunique()\n"
      ]
    },
    {
      "cell_type": "code",
      "execution_count": null,
      "id": "bc08ec1d",
      "metadata": {
        "id": "bc08ec1d",
        "outputId": "0ddc0540-df0e-4f18-f17f-23a34c0cc4ed"
      },
      "outputs": [
        {
          "data": {
            "text/html": [
              "<div>\n",
              "<style scoped>\n",
              "    .dataframe tbody tr th:only-of-type {\n",
              "        vertical-align: middle;\n",
              "    }\n",
              "\n",
              "    .dataframe tbody tr th {\n",
              "        vertical-align: top;\n",
              "    }\n",
              "\n",
              "    .dataframe thead th {\n",
              "        text-align: right;\n",
              "    }\n",
              "</style>\n",
              "<table border=\"1\" class=\"dataframe\">\n",
              "  <thead>\n",
              "    <tr style=\"text-align: right;\">\n",
              "      <th>Age</th>\n",
              "      <th>0-17</th>\n",
              "      <th>18-25</th>\n",
              "      <th>26-35</th>\n",
              "      <th>36-45</th>\n",
              "      <th>46-50</th>\n",
              "      <th>51-55</th>\n",
              "      <th>55+</th>\n",
              "    </tr>\n",
              "    <tr>\n",
              "      <th>City_Category</th>\n",
              "      <th></th>\n",
              "      <th></th>\n",
              "      <th></th>\n",
              "      <th></th>\n",
              "      <th></th>\n",
              "      <th></th>\n",
              "      <th></th>\n",
              "    </tr>\n",
              "  </thead>\n",
              "  <tbody>\n",
              "    <tr>\n",
              "      <th>A</th>\n",
              "      <td>0.017222</td>\n",
              "      <td>0.186400</td>\n",
              "      <td>0.499222</td>\n",
              "      <td>0.180185</td>\n",
              "      <td>0.051496</td>\n",
              "      <td>0.041288</td>\n",
              "      <td>0.024188</td>\n",
              "    </tr>\n",
              "    <tr>\n",
              "      <th>B</th>\n",
              "      <td>0.023511</td>\n",
              "      <td>0.187076</td>\n",
              "      <td>0.396171</td>\n",
              "      <td>0.205898</td>\n",
              "      <td>0.088272</td>\n",
              "      <td>0.076743</td>\n",
              "      <td>0.022330</td>\n",
              "    </tr>\n",
              "    <tr>\n",
              "      <th>C</th>\n",
              "      <td>0.041612</td>\n",
              "      <td>0.168705</td>\n",
              "      <td>0.316974</td>\n",
              "      <td>0.209131</td>\n",
              "      <td>0.103333</td>\n",
              "      <td>0.085649</td>\n",
              "      <td>0.074596</td>\n",
              "    </tr>\n",
              "    <tr>\n",
              "      <th>All</th>\n",
              "      <td>0.027455</td>\n",
              "      <td>0.181178</td>\n",
              "      <td>0.399200</td>\n",
              "      <td>0.199999</td>\n",
              "      <td>0.083082</td>\n",
              "      <td>0.069993</td>\n",
              "      <td>0.039093</td>\n",
              "    </tr>\n",
              "  </tbody>\n",
              "</table>\n",
              "</div>"
            ],
            "text/plain": [
              "Age                0-17     18-25     26-35     36-45     46-50     51-55  \\\n",
              "City_Category                                                               \n",
              "A              0.017222  0.186400  0.499222  0.180185  0.051496  0.041288   \n",
              "B              0.023511  0.187076  0.396171  0.205898  0.088272  0.076743   \n",
              "C              0.041612  0.168705  0.316974  0.209131  0.103333  0.085649   \n",
              "All            0.027455  0.181178  0.399200  0.199999  0.083082  0.069993   \n",
              "\n",
              "Age                 55+  \n",
              "City_Category            \n",
              "A              0.024188  \n",
              "B              0.022330  \n",
              "C              0.074596  \n",
              "All            0.039093  "
            ]
          },
          "execution_count": 16,
          "metadata": {},
          "output_type": "execute_result"
        }
      ],
      "source": [
        "#Checking the age group distribution in different city categories\n",
        "pd.crosstab(index=df[\"City_Category\"],columns=df[\"Age\"],margins=True,normalize=\"index\")"
      ]
    },
    {
      "cell_type": "markdown",
      "id": "82f93f33",
      "metadata": {
        "id": "82f93f33"
      },
      "source": [
        "Observation:\n",
        "    \n",
        "    1. We have seen earlier that city category B and A constitutes less percentage of total population,\n",
        "     but they contribute more towards purchase count.\n",
        "\n",
        "    We can see from above results large percentage of customers aged 26-35 for B(40%) and\n",
        "    A (50%) which can be the reason for these city categories to be more actively purchasing."
      ]
    },
    {
      "cell_type": "markdown",
      "source": [
        "# Visual Analysis - Univariate & Bivariate"
      ],
      "metadata": {
        "id": "UKmjnX18dHrI"
      },
      "id": "UKmjnX18dHrI"
    },
    {
      "cell_type": "markdown",
      "source": [
        "Univariate Analysis"
      ],
      "metadata": {
        "id": "xuvIpD76dTxA"
      },
      "id": "xuvIpD76dTxA"
    },
    {
      "cell_type": "code",
      "source": [
        "sns.histplot(data=df,x=\"Purchase\",kde=True)"
      ],
      "metadata": {
        "id": "YuIhwRbKdaFW",
        "outputId": "0ab09a05-3eaa-4093-dc50-c3ceaaac4ab2",
        "colab": {
          "base_uri": "https://localhost:8080/",
          "height": 466
        }
      },
      "id": "YuIhwRbKdaFW",
      "execution_count": 36,
      "outputs": [
        {
          "output_type": "execute_result",
          "data": {
            "text/plain": [
              "<Axes: xlabel='Purchase', ylabel='Count'>"
            ]
          },
          "metadata": {},
          "execution_count": 36
        },
        {
          "output_type": "display_data",
          "data": {
            "text/plain": [
              "<Figure size 640x480 with 1 Axes>"
            ],
            "image/png": "[encoded data removed]"
          },
          "metadata": {}
        }
      ]
    },
    {
      "cell_type": "markdown",
      "source": [
        "We can see purchase value between 5000 and 10000 have higher count.\n",
        " From the initial observation we have already seen the mean and median is 9263 and 8047 respectively.\n",
        " Also, we can see there are outliers in the data."
      ],
      "metadata": {
        "id": "TxP1W-KlgEvz"
      },
      "id": "TxP1W-KlgEvz"
    },
    {
      "cell_type": "code",
      "source": [
        "plt.figure(figsize=(5, 4))\n",
        "sns.boxplot(data=df, y='Purchase')\n",
        "plt.show()"
      ],
      "metadata": {
        "id": "6cm1WSO7e7-X",
        "outputId": "93ecf6e9-0da5-44c3-940c-ba1a80538d6d",
        "colab": {
          "base_uri": "https://localhost:8080/",
          "height": 353
        }
      },
      "id": "6cm1WSO7e7-X",
      "execution_count": 39,
      "outputs": [
        {
          "output_type": "display_data",
          "data": {
            "text/plain": [
              "<Figure size 500x400 with 1 Axes>"
            ],
            "image/png": "[encoded data removed]"
          },
          "metadata": {}
        }
      ]
    },
    {
      "cell_type": "code",
      "source": [
        "fig, axs = plt.subplots(nrows=2, ncols=2, figsize=(15, 10))\n",
        "sns.countplot(data=df, x='Gender', ax=axs[0,0])\n",
        "sns.countplot(data=df, x='Occupation', ax=axs[0,1])\n",
        "sns.countplot(data=df, x='City_Category', ax=axs[1,0])\n",
        "sns.countplot(data=df, x='Marital_Status', ax=axs[1,1])\n",
        "plt.show()"
      ],
      "metadata": {
        "id": "cN_8-I0RfOIX",
        "outputId": "998a87fc-2d2a-4fa0-dd69-ef6e2f1af8e4",
        "colab": {
          "base_uri": "https://localhost:8080/",
          "height": 850
        }
      },
      "id": "cN_8-I0RfOIX",
      "execution_count": 40,
      "outputs": [
        {
          "output_type": "display_data",
          "data": {
            "text/plain": [
              "<Figure size 1500x1000 with 4 Axes>"
            ],
            "image/png": "[encoded data removed]"
          },
          "metadata": {}
        }
      ]
    },
    {
      "cell_type": "markdown",
      "source": [
        " We can clearly see from the graphs above the purchases done by males are much higher than females.\n",
        "2. We have 21 occupations categories. Occupation category 4, 0, and 7 are with higher number of purchases and category 8 with the lowest number of purchaes.\n",
        "3. The purchases are highest from City category B.\n",
        "4. Single customer purchases are higher than married users."
      ],
      "metadata": {
        "id": "w1EfkbyMffFK"
      },
      "id": "w1EfkbyMffFK"
    },
    {
      "cell_type": "markdown",
      "source": [
        "# Bivariate Analysis"
      ],
      "metadata": {
        "id": "TdE-A8uq7gaf"
      },
      "id": "TdE-A8uq7gaf"
    },
    {
      "cell_type": "code",
      "source": [
        "fig1, axs=plt.subplots(nrows=2,ncols=2, figsize=(30,20))\n",
        "\n",
        "sns.boxplot(data=df, y='Gender',x ='Purchase',orient='h',ax=axs[0,0])\n",
        "axs[0,0].set_title(\"Gender vs Purchase\", fontsize=16)\n",
        "axs[0,0].set_xlabel(\"Purchase\", fontsize=16)\n",
        "axs[0,0].set_ylabel(\"Gender\", fontsize=16)\n",
        "\n",
        "sns.boxplot(data=df, y='Marital_Status',x ='Purchase',orient='h',ax=axs[0,1])\n",
        "axs[0,1].set_title(\"Marital_Status vs Purchase\", fontsize=16)\n",
        "axs[0,1].set_xlabel(\"Purchase\", fontsize=16)\n",
        "axs[0,1].set_ylabel(\"Marital_Status\", fontsize=16)\n",
        "\n",
        "sns.boxplot(data=df, y='Age',x ='Purchase',orient='h',ax=axs[1,0])\n",
        "axs[1,0].set_title(\"Age vs Purchase\", fontsize=16)\n",
        "axs[1,0].set_xlabel(\"Purchase\", fontsize=16)\n",
        "axs[1,0].set_ylabel(\"Age\", fontsize=16)\n",
        "\n",
        "sns.boxplot(data=df, y='City_Category',x ='Purchase',orient='h',ax=axs[1,1])\n",
        "axs[1,1].set_title(\"City_Category vs Purchase\", fontsize=16)\n",
        "axs[1,1].set_xlabel(\"Purchase\", fontsize=16)\n",
        "axs[1,1].set_ylabel(\"City_Category\", fontsize=16)\n",
        "plt.show()"
      ],
      "metadata": {
        "id": "UKgH2VrTgfLW",
        "outputId": "e131a25e-f24f-4df4-ca30-e6e5ec5b3be4",
        "colab": {
          "base_uri": "https://localhost:8080/",
          "height": 871
        }
      },
      "id": "UKgH2VrTgfLW",
      "execution_count": 42,
      "outputs": [
        {
          "output_type": "display_data",
          "data": {
            "text/plain": [
              "<Figure size 3000x2000 with 4 Axes>"
            ],
            "image/png": "[encoded data removed]"
          },
          "metadata": {}
        }
      ]
    },
    {
      "cell_type": "markdown",
      "source": [
        "1) Gender vs. Purchase\n",
        "\n",
        "a) The median for males and females is almost equal.\n",
        "\n",
        "b) Females have more outliers compared to males.\n",
        "\n",
        " c) Males purchased more compared to females.\n",
        "\n",
        "2) Martial Status vs. Purchase\n",
        "\n",
        "  a) The median for married and single people is almost equal.\n",
        "  \n",
        "   b) Outliers are present in both records.\n",
        "   \n",
        "3) Age vs. Purchase\n",
        "\n",
        "  a) The median for all age groups is almost equal.\n",
        "\n",
        "  b) Outliers are present in all age groups.\n",
        "\n",
        "4) City Category vs. Purchase\n",
        "\n",
        "   a) The C city region has very low outliers compared to other cities.\n",
        "\n",
        "   b) A and B city region medians are almost the same."
      ],
      "metadata": {
        "id": "tmsDbTOO8H6a"
      },
      "id": "tmsDbTOO8H6a"
    },
    {
      "cell_type": "code",
      "execution_count": 33,
      "id": "a6899410",
      "metadata": {
        "id": "a6899410",
        "outputId": "0309a9d5-151f-4b4d-e62a-9e9db3406c2f",
        "colab": {
          "base_uri": "https://localhost:8080/",
          "height": 143
        }
      },
      "outputs": [
        {
          "output_type": "execute_result",
          "data": {
            "text/plain": [
              "           count         mean          std   min     25%     50%      75%  \\\n",
              "Gender                                                                      \n",
              "F       135809.0  8734.565765  4767.233289  12.0  5433.0  7914.0  11400.0   \n",
              "M       414259.0  9437.526040  5092.186210  12.0  5863.0  8098.0  12454.0   \n",
              "\n",
              "            max  \n",
              "Gender           \n",
              "F       23959.0  \n",
              "M       23961.0  "
            ],
            "text/html": [
              "\n",
              "  <div id=\"df-4a7bfe5a-8eb6-4b92-a704-56d44cbfa0b3\" class=\"colab-df-container\">\n",
              "    <div>\n",
              "<style scoped>\n",
              "    .dataframe tbody tr th:only-of-type {\n",
              "        vertical-align: middle;\n",
              "    }\n",
              "\n",
              "    .dataframe tbody tr th {\n",
              "        vertical-align: top;\n",
              "    }\n",
              "\n",
              "    .dataframe thead th {\n",
              "        text-align: right;\n",
              "    }\n",
              "</style>\n",
              "<table border=\"1\" class=\"dataframe\">\n",
              "  <thead>\n",
              "    <tr style=\"text-align: right;\">\n",
              "      <th></th>\n",
              "      <th>count</th>\n",
              "      <th>mean</th>\n",
              "      <th>std</th>\n",
              "      <th>min</th>\n",
              "      <th>25%</th>\n",
              "      <th>50%</th>\n",
              "      <th>75%</th>\n",
              "      <th>max</th>\n",
              "    </tr>\n",
              "    <tr>\n",
              "      <th>Gender</th>\n",
              "      <th></th>\n",
              "      <th></th>\n",
              "      <th></th>\n",
              "      <th></th>\n",
              "      <th></th>\n",
              "      <th></th>\n",
              "      <th></th>\n",
              "      <th></th>\n",
              "    </tr>\n",
              "  </thead>\n",
              "  <tbody>\n",
              "    <tr>\n",
              "      <th>F</th>\n",
              "      <td>135809.0</td>\n",
              "      <td>8734.565765</td>\n",
              "      <td>4767.233289</td>\n",
              "      <td>12.0</td>\n",
              "      <td>5433.0</td>\n",
              "      <td>7914.0</td>\n",
              "      <td>11400.0</td>\n",
              "      <td>23959.0</td>\n",
              "    </tr>\n",
              "    <tr>\n",
              "      <th>M</th>\n",
              "      <td>414259.0</td>\n",
              "      <td>9437.526040</td>\n",
              "      <td>5092.186210</td>\n",
              "      <td>12.0</td>\n",
              "      <td>5863.0</td>\n",
              "      <td>8098.0</td>\n",
              "      <td>12454.0</td>\n",
              "      <td>23961.0</td>\n",
              "    </tr>\n",
              "  </tbody>\n",
              "</table>\n",
              "</div>\n",
              "    <div class=\"colab-df-buttons\">\n",
              "\n",
              "  <div class=\"colab-df-container\">\n",
              "    <button class=\"colab-df-convert\" onclick=\"convertToInteractive('df-4a7bfe5a-8eb6-4b92-a704-56d44cbfa0b3')\"\n",
              "            title=\"Convert this dataframe to an interactive table.\"\n",
              "            style=\"display:none;\">\n",
              "\n",
              "  <svg xmlns=\"http://www.w3.org/2000/svg\" height=\"24px\" viewBox=\"0 -960 960 960\">\n",
              "    <path d=\"M120-120v-720h720v720H120Zm60-500h600v-160H180v160Zm220 220h160v-160H400v160Zm0 220h160v-160H400v160ZM180-400h160v-160H180v160Zm440 0h160v-160H620v160ZM180-180h160v-160H180v160Zm440 0h160v-160H620v160Z\"/>\n",
              "  </svg>\n",
              "    </button>\n",
              "\n",
              "  <style>\n",
              "    .colab-df-container {\n",
              "      display:flex;\n",
              "      gap: 12px;\n",
              "    }\n",
              "\n",
              "    .colab-df-convert {\n",
              "      background-color: #E8F0FE;\n",
              "      border: none;\n",
              "      border-radius: 50%;\n",
              "      cursor: pointer;\n",
              "      display: none;\n",
              "      fill: #1967D2;\n",
              "      height: 32px;\n",
              "      padding: 0 0 0 0;\n",
              "      width: 32px;\n",
              "    }\n",
              "\n",
              "    .colab-df-convert:hover {\n",
              "      background-color: #E2EBFA;\n",
              "      box-shadow: 0px 1px 2px rgba(60, 64, 67, 0.3), 0px 1px 3px 1px rgba(60, 64, 67, 0.15);\n",
              "      fill: #174EA6;\n",
              "    }\n",
              "\n",
              "    .colab-df-buttons div {\n",
              "      margin-bottom: 4px;\n",
              "    }\n",
              "\n",
              "    [theme=dark] .colab-df-convert {\n",
              "      background-color: #3B4455;\n",
              "      fill: #D2E3FC;\n",
              "    }\n",
              "\n",
              "    [theme=dark] .colab-df-convert:hover {\n",
              "      background-color: #434B5C;\n",
              "      box-shadow: 0px 1px 3px 1px rgba(0, 0, 0, 0.15);\n",
              "      filter: drop-shadow(0px 1px 2px rgba(0, 0, 0, 0.3));\n",
              "      fill: #FFFFFF;\n",
              "    }\n",
              "  </style>\n",
              "\n",
              "    <script>\n",
              "      const buttonEl =\n",
              "        document.querySelector('#df-4a7bfe5a-8eb6-4b92-a704-56d44cbfa0b3 button.colab-df-convert');\n",
              "      buttonEl.style.display =\n",
              "        google.colab.kernel.accessAllowed ? 'block' : 'none';\n",
              "\n",
              "      async function convertToInteractive(key) {\n",
              "        const element = document.querySelector('#df-4a7bfe5a-8eb6-4b92-a704-56d44cbfa0b3');\n",
              "        const dataTable =\n",
              "          await google.colab.kernel.invokeFunction('convertToInteractive',\n",
              "                                                    [key], {});\n",
              "        if (!dataTable) return;\n",
              "\n",
              "        const docLinkHtml = 'Like what you see? Visit the ' +\n",
              "          '<a target=\"_blank\" href=https://colab.research.google.com/notebooks/data_table.ipynb>data table notebook</a>'\n",
              "          + ' to learn more about interactive tables.';\n",
              "        element.innerHTML = '';\n",
              "        dataTable['output_type'] = 'display_data';\n",
              "        await google.colab.output.renderOutput(dataTable, element);\n",
              "        const docLink = document.createElement('div');\n",
              "        docLink.innerHTML = docLinkHtml;\n",
              "        element.appendChild(docLink);\n",
              "      }\n",
              "    </script>\n",
              "  </div>\n",
              "\n",
              "\n",
              "<div id=\"df-dd8eb34a-4564-497e-b6e7-7002c4a50f34\">\n",
              "  <button class=\"colab-df-quickchart\" onclick=\"quickchart('df-dd8eb34a-4564-497e-b6e7-7002c4a50f34')\"\n",
              "            title=\"Suggest charts\"\n",
              "            style=\"display:none;\">\n",
              "\n",
              "<svg xmlns=\"http://www.w3.org/2000/svg\" height=\"24px\"viewBox=\"0 0 24 24\"\n",
              "     width=\"24px\">\n",
              "    <g>\n",
              "        <path d=\"M19 3H5c-1.1 0-2 .9-2 2v14c0 1.1.9 2 2 2h14c1.1 0 2-.9 2-2V5c0-1.1-.9-2-2-2zM9 17H7v-7h2v7zm4 0h-2V7h2v10zm4 0h-2v-4h2v4z\"/>\n",
              "    </g>\n",
              "</svg>\n",
              "  </button>\n",
              "\n",
              "<style>\n",
              "  .colab-df-quickchart {\n",
              "      --bg-color: #E8F0FE;\n",
              "      --fill-color: #1967D2;\n",
              "      --hover-bg-color: #E2EBFA;\n",
              "      --hover-fill-color: #174EA6;\n",
              "      --disabled-fill-color: #AAA;\n",
              "      --disabled-bg-color: #DDD;\n",
              "  }\n",
              "\n",
              "  [theme=dark] .colab-df-quickchart {\n",
              "      --bg-color: #3B4455;\n",
              "      --fill-color: #D2E3FC;\n",
              "      --hover-bg-color: #434B5C;\n",
              "      --hover-fill-color: #FFFFFF;\n",
              "      --disabled-bg-color: #3B4455;\n",
              "      --disabled-fill-color: #666;\n",
              "  }\n",
              "\n",
              "  .colab-df-quickchart {\n",
              "    background-color: var(--bg-color);\n",
              "    border: none;\n",
              "    border-radius: 50%;\n",
              "    cursor: pointer;\n",
              "    display: none;\n",
              "    fill: var(--fill-color);\n",
              "    height: 32px;\n",
              "    padding: 0;\n",
              "    width: 32px;\n",
              "  }\n",
              "\n",
              "  .colab-df-quickchart:hover {\n",
              "    background-color: var(--hover-bg-color);\n",
              "    box-shadow: 0 1px 2px rgba(60, 64, 67, 0.3), 0 1px 3px 1px rgba(60, 64, 67, 0.15);\n",
              "    fill: var(--button-hover-fill-color);\n",
              "  }\n",
              "\n",
              "  .colab-df-quickchart-complete:disabled,\n",
              "  .colab-df-quickchart-complete:disabled:hover {\n",
              "    background-color: var(--disabled-bg-color);\n",
              "    fill: var(--disabled-fill-color);\n",
              "    box-shadow: none;\n",
              "  }\n",
              "\n",
              "  .colab-df-spinner {\n",
              "    border: 2px solid var(--fill-color);\n",
              "    border-color: transparent;\n",
              "    border-bottom-color: var(--fill-color);\n",
              "    animation:\n",
              "      spin 1s steps(1) infinite;\n",
              "  }\n",
              "\n",
              "  @keyframes spin {\n",
              "    0% {\n",
              "      border-color: transparent;\n",
              "      border-bottom-color: var(--fill-color);\n",
              "      border-left-color: var(--fill-color);\n",
              "    }\n",
              "    20% {\n",
              "      border-color: transparent;\n",
              "      border-left-color: var(--fill-color);\n",
              "      border-top-color: var(--fill-color);\n",
              "    }\n",
              "    30% {\n",
              "      border-color: transparent;\n",
              "      border-left-color: var(--fill-color);\n",
              "      border-top-color: var(--fill-color);\n",
              "      border-right-color: var(--fill-color);\n",
              "    }\n",
              "    40% {\n",
              "      border-color: transparent;\n",
              "      border-right-color: var(--fill-color);\n",
              "      border-top-color: var(--fill-color);\n",
              "    }\n",
              "    60% {\n",
              "      border-color: transparent;\n",
              "      border-right-color: var(--fill-color);\n",
              "    }\n",
              "    80% {\n",
              "      border-color: transparent;\n",
              "      border-right-color: var(--fill-color);\n",
              "      border-bottom-color: var(--fill-color);\n",
              "    }\n",
              "    90% {\n",
              "      border-color: transparent;\n",
              "      border-bottom-color: var(--fill-color);\n",
              "    }\n",
              "  }\n",
              "</style>\n",
              "\n",
              "  <script>\n",
              "    async function quickchart(key) {\n",
              "      const quickchartButtonEl =\n",
              "        document.querySelector('#' + key + ' button');\n",
              "      quickchartButtonEl.disabled = true;  // To prevent multiple clicks.\n",
              "      quickchartButtonEl.classList.add('colab-df-spinner');\n",
              "      try {\n",
              "        const charts = await google.colab.kernel.invokeFunction(\n",
              "            'suggestCharts', [key], {});\n",
              "      } catch (error) {\n",
              "        console.error('Error during call to suggestCharts:', error);\n",
              "      }\n",
              "      quickchartButtonEl.classList.remove('colab-df-spinner');\n",
              "      quickchartButtonEl.classList.add('colab-df-quickchart-complete');\n",
              "    }\n",
              "    (() => {\n",
              "      let quickchartButtonEl =\n",
              "        document.querySelector('#df-dd8eb34a-4564-497e-b6e7-7002c4a50f34 button');\n",
              "      quickchartButtonEl.style.display =\n",
              "        google.colab.kernel.accessAllowed ? 'block' : 'none';\n",
              "    })();\n",
              "  </script>\n",
              "</div>\n",
              "\n",
              "    </div>\n",
              "  </div>\n"
            ],
            "application/vnd.google.colaboratory.intrinsic+json": {
              "type": "dataframe",
              "summary": "{\n  \"name\": \"df\",\n  \"rows\": 2,\n  \"fields\": [\n    {\n      \"column\": \"Gender\",\n      \"properties\": {\n        \"dtype\": \"string\",\n        \"num_unique_values\": 2,\n        \"samples\": [\n          \"M\",\n          \"F\"\n        ],\n        \"semantic_type\": \"\",\n        \"description\": \"\"\n      }\n    },\n    {\n      \"column\": \"count\",\n      \"properties\": {\n        \"dtype\": \"number\",\n        \"std\": 196893.88322139415,\n        \"min\": 135809.0,\n        \"max\": 414259.0,\n        \"num_unique_values\": 2,\n        \"samples\": [\n          414259.0,\n          135809.0\n        ],\n        \"semantic_type\": \"\",\n        \"description\": \"\"\n      }\n    },\n    {\n      \"column\": \"mean\",\n      \"properties\": {\n        \"dtype\": \"number\",\n        \"std\": 497.0679775812641,\n        \"min\": 8734.565765155476,\n        \"max\": 9437.526040472265,\n        \"num_unique_values\": 2,\n        \"samples\": [\n          9437.526040472265,\n          8734.565765155476\n        ],\n        \"semantic_type\": \"\",\n        \"description\": \"\"\n      }\n    },\n    {\n      \"column\": \"std\",\n      \"properties\": {\n        \"dtype\": \"number\",\n        \"std\": 229.77641364238568,\n        \"min\": 4767.233289291458,\n        \"max\": 5092.18620977797,\n        \"num_unique_values\": 2,\n        \"samples\": [\n          5092.18620977797,\n          4767.233289291458\n        ],\n        \"semantic_type\": \"\",\n        \"description\": \"\"\n      }\n    },\n    {\n      \"column\": \"min\",\n      \"properties\": {\n        \"dtype\": \"number\",\n        \"std\": 0.0,\n        \"min\": 12.0,\n        \"max\": 12.0,\n        \"num_unique_values\": 1,\n        \"samples\": [\n          12.0\n        ],\n        \"semantic_type\": \"\",\n        \"description\": \"\"\n      }\n    },\n    {\n      \"column\": \"25%\",\n      \"properties\": {\n        \"dtype\": \"number\",\n        \"std\": 304.05591591021545,\n        \"min\": 5433.0,\n        \"max\": 5863.0,\n        \"num_unique_values\": 2,\n        \"samples\": [\n          5863.0\n        ],\n        \"semantic_type\": \"\",\n        \"description\": \"\"\n      }\n    },\n    {\n      \"column\": \"50%\",\n      \"properties\": {\n        \"dtype\": \"number\",\n        \"std\": 130.10764773832474,\n        \"min\": 7914.0,\n        \"max\": 8098.0,\n        \"num_unique_values\": 2,\n        \"samples\": [\n          8098.0\n        ],\n        \"semantic_type\": \"\",\n        \"description\": \"\"\n      }\n    },\n    {\n      \"column\": \"75%\",\n      \"properties\": {\n        \"dtype\": \"number\",\n        \"std\": 745.2905473706211,\n        \"min\": 11400.0,\n        \"max\": 12454.0,\n        \"num_unique_values\": 2,\n        \"samples\": [\n          12454.0\n        ],\n        \"semantic_type\": \"\",\n        \"description\": \"\"\n      }\n    },\n    {\n      \"column\": \"max\",\n      \"properties\": {\n        \"dtype\": \"number\",\n        \"std\": 1.4142135623730951,\n        \"min\": 23959.0,\n        \"max\": 23961.0,\n        \"num_unique_values\": 2,\n        \"samples\": [\n          23961.0\n        ],\n        \"semantic_type\": \"\",\n        \"description\": \"\"\n      }\n    }\n  ]\n}"
            }
          },
          "metadata": {},
          "execution_count": 33
        }
      ],
      "source": [
        "#Checking how genders are contributing towards toatl purchase amount\n",
        "df.groupby('Gender')['Purchase'].describe()\n",
        "\n"
      ]
    },
    {
      "cell_type": "code",
      "source": [
        "#Genderwise spending on product\n",
        "sns.boxplot (x='Gender', y='Purchase', data=df)\n",
        "\n",
        "plt.show()"
      ],
      "metadata": {
        "id": "OaxbtCKAR9lc",
        "outputId": "034391e2-2116-4d7e-99a8-f8d7dbb2dab3",
        "colab": {
          "base_uri": "https://localhost:8080/",
          "height": 453
        }
      },
      "id": "OaxbtCKAR9lc",
      "execution_count": 43,
      "outputs": [
        {
          "output_type": "display_data",
          "data": {
            "text/plain": [
              "<Figure size 640x480 with 1 Axes>"
            ],
            "image/png": "[encoded data removed]"
          },
          "metadata": {}
        }
      ]
    },
    {
      "cell_type": "code",
      "source": [
        "sns.histplot(x='Purchase', data=df, bins=25, hue='Gender')"
      ],
      "metadata": {
        "id": "AdH-T2X29hWF",
        "outputId": "f7d12d52-72e2-4b98-f4de-6a89626d9a7b",
        "colab": {
          "base_uri": "https://localhost:8080/",
          "height": 466
        }
      },
      "id": "AdH-T2X29hWF",
      "execution_count": 46,
      "outputs": [
        {
          "output_type": "execute_result",
          "data": {
            "text/plain": [
              "<Axes: xlabel='Purchase', ylabel='Count'>"
            ]
          },
          "metadata": {},
          "execution_count": 46
        },
        {
          "output_type": "display_data",
          "data": {
            "text/plain": [
              "<Figure size 640x480 with 1 Axes>"
            ],
            "image/png": "[encoded data removed]"
          },
          "metadata": {}
        }
      ]
    },
    {
      "cell_type": "markdown",
      "source": [],
      "metadata": {
        "id": "ERvoTzdu_XoR"
      },
      "id": "ERvoTzdu_XoR"
    },
    {
      "cell_type": "code",
      "source": [
        "df.groupby(\"Gender\")[\"Purchase\"].mean()"
      ],
      "metadata": {
        "id": "G83jkVDa_Yss",
        "outputId": "42c72a37-f6d2-41da-90ba-71cda653d5dd",
        "colab": {
          "base_uri": "https://localhost:8080/"
        }
      },
      "id": "G83jkVDa_Yss",
      "execution_count": 48,
      "outputs": [
        {
          "output_type": "execute_result",
          "data": {
            "text/plain": [
              "Gender\n",
              "F    8734.565765\n",
              "M    9437.526040\n",
              "Name: Purchase, dtype: float64"
            ]
          },
          "metadata": {},
          "execution_count": 48
        }
      ]
    },
    {
      "cell_type": "code",
      "source": [
        "df.groupby(\"Gender\")[\"User_ID\"].nunique()"
      ],
      "metadata": {
        "id": "6rKqGVkVA6Y6",
        "outputId": "6234a560-924d-43b3-de9f-7f2713f58ec0",
        "colab": {
          "base_uri": "https://localhost:8080/"
        }
      },
      "id": "6rKqGVkVA6Y6",
      "execution_count": 50,
      "outputs": [
        {
          "output_type": "execute_result",
          "data": {
            "text/plain": [
              "Gender\n",
              "F    1666\n",
              "M    4225\n",
              "Name: User_ID, dtype: int64"
            ]
          },
          "metadata": {},
          "execution_count": 50
        }
      ]
    },
    {
      "cell_type": "markdown",
      "source": [
        "\n",
        "Are women spending more money per transaction than men? Why or Why not?"
      ],
      "metadata": {
        "id": "Aic67dGfB4Yd"
      },
      "id": "Aic67dGfB4Yd"
    },
    {
      "cell_type": "code",
      "source": [
        "df.groupby(\"Gender\")[\"Purchase\"].sum()"
      ],
      "metadata": {
        "id": "aBJJbTruB7GN",
        "outputId": "5339419e-2f81-4ac2-a2b9-494cc6671e1a",
        "colab": {
          "base_uri": "https://localhost:8080/"
        }
      },
      "id": "aBJJbTruB7GN",
      "execution_count": 52,
      "outputs": [
        {
          "output_type": "execute_result",
          "data": {
            "text/plain": [
              "Gender\n",
              "F    1186232642\n",
              "M    3909580100\n",
              "Name: Purchase, dtype: int64"
            ]
          },
          "metadata": {},
          "execution_count": 52
        }
      ]
    },
    {
      "cell_type": "code",
      "source": [
        "n=500\n",
        "iteration=1000\n",
        "male_sample_mean=[df[df[\"Gender\"]==\"M\"].sample(n,replace=True)[\"Purchase\"].mean() for i in range(iteration)]\n",
        "np.mean(male_sample_mean)"
      ],
      "metadata": {
        "id": "rlokdBwcAU7I",
        "outputId": "bcbaa93d-4b1f-4ddb-c764-022900914706",
        "colab": {
          "base_uri": "https://localhost:8080/"
        }
      },
      "id": "rlokdBwcAU7I",
      "execution_count": 48,
      "outputs": [
        {
          "output_type": "execute_result",
          "data": {
            "text/plain": [
              "9437.042166000001"
            ]
          },
          "metadata": {},
          "execution_count": 48
        }
      ]
    },
    {
      "cell_type": "code",
      "source": [
        "sns.histplot(male_sample_mean)\n",
        "plt.show()"
      ],
      "metadata": {
        "id": "edZQ9bpCCppF",
        "outputId": "ed892690-9425-4e6a-d6ad-2dd1f5b87a71",
        "colab": {
          "base_uri": "https://localhost:8080/",
          "height": 430
        }
      },
      "id": "edZQ9bpCCppF",
      "execution_count": 51,
      "outputs": [
        {
          "output_type": "display_data",
          "data": {
            "text/plain": [
              "<Figure size 640x480 with 1 Axes>"
            ],
            "image/png": "[encoded data removed]"
          },
          "metadata": {}
        }
      ]
    },
    {
      "cell_type": "code",
      "source": [
        "n=500\n",
        "iteration=1000\n",
        "female_sample_mean=[df[df[\"Gender\"]==\"F\"].sample(n,replace=True)[\"Purchase\"].mean() for i in range(iteration)]\n",
        "np.mean(female_sample_mean)"
      ],
      "metadata": {
        "id": "3-iMJEZtIVcq",
        "outputId": "54f0f6ee-284b-4070-d6da-3dde7998635a",
        "colab": {
          "base_uri": "https://localhost:8080/"
        }
      },
      "id": "3-iMJEZtIVcq",
      "execution_count": 44,
      "outputs": [
        {
          "output_type": "execute_result",
          "data": {
            "text/plain": [
              "8733.004583999998"
            ]
          },
          "metadata": {},
          "execution_count": 44
        }
      ]
    },
    {
      "cell_type": "code",
      "source": [
        "sns.histplot(female_sample_mean)"
      ],
      "metadata": {
        "id": "BY40_tiZJiq9",
        "outputId": "e23d0c7f-a814-49d1-ea8c-15d91319b132",
        "colab": {
          "base_uri": "https://localhost:8080/",
          "height": 447
        }
      },
      "id": "BY40_tiZJiq9",
      "execution_count": 45,
      "outputs": [
        {
          "output_type": "execute_result",
          "data": {
            "text/plain": [
              "<Axes: ylabel='Count'>"
            ]
          },
          "metadata": {},
          "execution_count": 45
        },
        {
          "output_type": "display_data",
          "data": {
            "text/plain": [
              "<Figure size 640x480 with 1 Axes>"
            ],
            "image/png": "[encoded data removed]"
          },
          "metadata": {}
        }
      ]
    },
    {
      "cell_type": "code",
      "source": [
        "# calculate the confidence interval - 95%\n",
        "#Taking the values for z at 90%, 95% and 99% confidence interval as:\n",
        "z90=1.645 #90% Confidence Interval\n",
        "z95=1.960 #95% Confidence Interval\n",
        "z99=2.576 #99% Confidence Interval\n",
        "\n",
        "male_lower_range = np.mean(male_sample_mean) - 1.96 * np.std(male_sample_mean)\n",
        "male_upper_range=np.mean(male_sample_mean) + 1.96 * np.std(male_sample_mean)"
      ],
      "metadata": {
        "id": "fAeoU6lqJqyM"
      },
      "id": "fAeoU6lqJqyM",
      "execution_count": 52,
      "outputs": []
    },
    {
      "cell_type": "code",
      "source": [
        "(male_lower_range,male_upper_range)"
      ],
      "metadata": {
        "id": "hgqFabuEKB-f",
        "outputId": "59fa0037-7d5a-4a46-c5dc-e22800e343fe",
        "colab": {
          "base_uri": "https://localhost:8080/"
        }
      },
      "id": "hgqFabuEKB-f",
      "execution_count": 53,
      "outputs": [
        {
          "output_type": "execute_result",
          "data": {
            "text/plain": [
              "(9010.324863409867, 9863.759468590135)"
            ]
          },
          "metadata": {},
          "execution_count": 53
        }
      ]
    },
    {
      "cell_type": "code",
      "source": [
        "female_lower_range = np.mean(female_sample_mean) - 1.96 * np.std(female_sample_mean)\n",
        "female_upper_range = np.mean(female_sample_mean) + 1.96 * np.std(female_sample_mean)"
      ],
      "metadata": {
        "id": "hsioSTQ9fzU2"
      },
      "id": "hsioSTQ9fzU2",
      "execution_count": 54,
      "outputs": []
    },
    {
      "cell_type": "code",
      "source": [
        "(female_lower_range, female_upper_range)\n"
      ],
      "metadata": {
        "id": "NzVy8StQf5oL",
        "outputId": "3b633553-d0a2-4d4a-b148-ee7737c28714",
        "colab": {
          "base_uri": "https://localhost:8080/"
        }
      },
      "id": "NzVy8StQf5oL",
      "execution_count": 55,
      "outputs": [
        {
          "output_type": "execute_result",
          "data": {
            "text/plain": [
              "(8298.946412945363, 9167.062755054634)"
            ]
          },
          "metadata": {},
          "execution_count": 55
        }
      ]
    },
    {
      "cell_type": "markdown",
      "source": [
        "from above analysis of CLT .male CLT range is overlapping with female CLT range.so no overlapping between male and female will change the confidence level"
      ],
      "metadata": {
        "id": "qTIxVQP2gusJ"
      },
      "id": "qTIxVQP2gusJ"
    },
    {
      "cell_type": "code",
      "source": [
        "# At 90% confidence level"
      ],
      "metadata": {
        "id": "ue0ym-MBhsyt"
      },
      "id": "ue0ym-MBhsyt",
      "execution_count": null,
      "outputs": []
    },
    {
      "cell_type": "code",
      "source": [
        "male_lower_range = np.mean(male_sample_mean) - 1.645 * np.std(male_sample_mean)\n",
        "male_upper_range=np.mean(male_sample_mean) + 1.645* np.std(male_sample_mean)"
      ],
      "metadata": {
        "id": "XVOVRduuh3ZY"
      },
      "id": "XVOVRduuh3ZY",
      "execution_count": 63,
      "outputs": []
    },
    {
      "cell_type": "code",
      "source": [
        "(male_lower_range,male_upper_range)"
      ],
      "metadata": {
        "id": "EugRyJFCiAvR",
        "outputId": "b7e64bea-9360-40dc-ebca-67282414e128",
        "colab": {
          "base_uri": "https://localhost:8080/"
        }
      },
      "id": "EugRyJFCiAvR",
      "execution_count": 64,
      "outputs": [
        {
          "output_type": "execute_result",
          "data": {
            "text/plain": [
              "(9078.904429897566, 9795.179902102436)"
            ]
          },
          "metadata": {},
          "execution_count": 64
        }
      ]
    },
    {
      "cell_type": "code",
      "source": [
        "female_lower_range = np.mean(female_sample_mean) - 1.645 * np.std(female_sample_mean)\n",
        "female_upper_range = np.mean(female_sample_mean) + 1.645 * np.std(female_sample_mean)"
      ],
      "metadata": {
        "id": "snOfwcUGiFsu"
      },
      "id": "snOfwcUGiFsu",
      "execution_count": 65,
      "outputs": []
    },
    {
      "cell_type": "code",
      "source": [
        "(female_lower_range, female_upper_range)"
      ],
      "metadata": {
        "id": "swuUDz56iPyW",
        "outputId": "3cb87dfe-ea5f-44d7-9388-ecca2e7fde3e",
        "colab": {
          "base_uri": "https://localhost:8080/"
        }
      },
      "id": "swuUDz56iPyW",
      "execution_count": 66,
      "outputs": [
        {
          "output_type": "execute_result",
          "data": {
            "text/plain": [
              "(8368.705761864858, 9097.303406135139)"
            ]
          },
          "metadata": {},
          "execution_count": 66
        }
      ]
    },
    {
      "cell_type": "markdown",
      "source": [
        "At 90% confidence level there is no overlapping .its conclude that males spend more amount."
      ],
      "metadata": {
        "id": "f3795c5clL5b"
      },
      "id": "f3795c5clL5b"
    },
    {
      "cell_type": "code",
      "source": [
        "#At 99% confidence level\n",
        "male_lower_range = np.mean(male_sample_mean) - 2.57 * np.std(male_sample_mean)\n",
        "male_upper_range=np.mean(male_sample_mean) + 2.57 * np.std(male_sample_mean)"
      ],
      "metadata": {
        "id": "1kGy7fCIiY1E"
      },
      "id": "1kGy7fCIiY1E",
      "execution_count": 71,
      "outputs": []
    },
    {
      "cell_type": "code",
      "source": [
        "(male_lower_range,male_upper_range)"
      ],
      "metadata": {
        "id": "bXo5_5O7ijq5",
        "outputId": "bac40683-0b36-4ff4-f1ba-c5500071be94",
        "colab": {
          "base_uri": "https://localhost:8080/"
        }
      },
      "id": "bXo5_5O7ijq5",
      "execution_count": 72,
      "outputs": [
        {
          "output_type": "execute_result",
          "data": {
            "text/plain": [
              "(8877.51998862416, 9996.564343375841)"
            ]
          },
          "metadata": {},
          "execution_count": 72
        }
      ]
    },
    {
      "cell_type": "code",
      "source": [
        "female_lower_range = np.mean(female_sample_mean) - 2.57 * np.std(female_sample_mean)\n",
        "female_upper_range = np.mean(female_sample_mean) +2.57* np.std(female_sample_mean)"
      ],
      "metadata": {
        "id": "zJwQ33JRimJG"
      },
      "id": "zJwQ33JRimJG",
      "execution_count": 73,
      "outputs": []
    },
    {
      "cell_type": "code",
      "source": [
        "(female_lower_range, female_upper_range)"
      ],
      "metadata": {
        "id": "OUnXPKCuiuw9",
        "outputId": "940e8602-ebb3-40d6-92d5-aa55f2c5b465",
        "colab": {
          "base_uri": "https://localhost:8080/"
        }
      },
      "id": "OUnXPKCuiuw9",
      "execution_count": 74,
      "outputs": [
        {
          "output_type": "execute_result",
          "data": {
            "text/plain": [
              "(8163.856880117133, 9302.152287882864)"
            ]
          },
          "metadata": {},
          "execution_count": 74
        }
      ]
    },
    {
      "cell_type": "markdown",
      "source": [
        "Results when the same activity is performed for Married vs Unmarried"
      ],
      "metadata": {
        "id": "OdR0S-Dwl10h"
      },
      "id": "OdR0S-Dwl10h"
    },
    {
      "cell_type": "code",
      "source": [
        "df.groupby(\"Marital_Status\")[\"Purchase\"].describe()"
      ],
      "metadata": {
        "id": "aI-jL9zlqSxJ",
        "outputId": "a7a593f9-dd02-4987-bec1-6a15dd98bb6c",
        "colab": {
          "base_uri": "https://localhost:8080/",
          "height": 143
        }
      },
      "id": "aI-jL9zlqSxJ",
      "execution_count": 91,
      "outputs": [
        {
          "output_type": "execute_result",
          "data": {
            "text/plain": [
              "                   count         mean          std   min     25%     50%  \\\n",
              "Marital_Status                                                             \n",
              "0               324731.0  9265.907619  5027.347859  12.0  5605.0  8044.0   \n",
              "1               225337.0  9261.174574  5016.897378  12.0  5843.0  8051.0   \n",
              "\n",
              "                    75%      max  \n",
              "Marital_Status                    \n",
              "0               12061.0  23961.0  \n",
              "1               12042.0  23961.0  "
            ],
            "text/html": [
              "\n",
              "  <div id=\"df-531bdec6-87ff-4008-a923-3266ded1cf7b\" class=\"colab-df-container\">\n",
              "    <div>\n",
              "<style scoped>\n",
              "    .dataframe tbody tr th:only-of-type {\n",
              "        vertical-align: middle;\n",
              "    }\n",
              "\n",
              "    .dataframe tbody tr th {\n",
              "        vertical-align: top;\n",
              "    }\n",
              "\n",
              "    .dataframe thead th {\n",
              "        text-align: right;\n",
              "    }\n",
              "</style>\n",
              "<table border=\"1\" class=\"dataframe\">\n",
              "  <thead>\n",
              "    <tr style=\"text-align: right;\">\n",
              "      <th></th>\n",
              "      <th>count</th>\n",
              "      <th>mean</th>\n",
              "      <th>std</th>\n",
              "      <th>min</th>\n",
              "      <th>25%</th>\n",
              "      <th>50%</th>\n",
              "      <th>75%</th>\n",
              "      <th>max</th>\n",
              "    </tr>\n",
              "    <tr>\n",
              "      <th>Marital_Status</th>\n",
              "      <th></th>\n",
              "      <th></th>\n",
              "      <th></th>\n",
              "      <th></th>\n",
              "      <th></th>\n",
              "      <th></th>\n",
              "      <th></th>\n",
              "      <th></th>\n",
              "    </tr>\n",
              "  </thead>\n",
              "  <tbody>\n",
              "    <tr>\n",
              "      <th>0</th>\n",
              "      <td>324731.0</td>\n",
              "      <td>9265.907619</td>\n",
              "      <td>5027.347859</td>\n",
              "      <td>12.0</td>\n",
              "      <td>5605.0</td>\n",
              "      <td>8044.0</td>\n",
              "      <td>12061.0</td>\n",
              "      <td>23961.0</td>\n",
              "    </tr>\n",
              "    <tr>\n",
              "      <th>1</th>\n",
              "      <td>225337.0</td>\n",
              "      <td>9261.174574</td>\n",
              "      <td>5016.897378</td>\n",
              "      <td>12.0</td>\n",
              "      <td>5843.0</td>\n",
              "      <td>8051.0</td>\n",
              "      <td>12042.0</td>\n",
              "      <td>23961.0</td>\n",
              "    </tr>\n",
              "  </tbody>\n",
              "</table>\n",
              "</div>\n",
              "    <div class=\"colab-df-buttons\">\n",
              "\n",
              "  <div class=\"colab-df-container\">\n",
              "    <button class=\"colab-df-convert\" onclick=\"convertToInteractive('df-531bdec6-87ff-4008-a923-3266ded1cf7b')\"\n",
              "            title=\"Convert this dataframe to an interactive table.\"\n",
              "            style=\"display:none;\">\n",
              "\n",
              "  <svg xmlns=\"http://www.w3.org/2000/svg\" height=\"24px\" viewBox=\"0 -960 960 960\">\n",
              "    <path d=\"M120-120v-720h720v720H120Zm60-500h600v-160H180v160Zm220 220h160v-160H400v160Zm0 220h160v-160H400v160ZM180-400h160v-160H180v160Zm440 0h160v-160H620v160ZM180-180h160v-160H180v160Zm440 0h160v-160H620v160Z\"/>\n",
              "  </svg>\n",
              "    </button>\n",
              "\n",
              "  <style>\n",
              "    .colab-df-container {\n",
              "      display:flex;\n",
              "      gap: 12px;\n",
              "    }\n",
              "\n",
              "    .colab-df-convert {\n",
              "      background-color: #E8F0FE;\n",
              "      border: none;\n",
              "      border-radius: 50%;\n",
              "      cursor: pointer;\n",
              "      display: none;\n",
              "      fill: #1967D2;\n",
              "      height: 32px;\n",
              "      padding: 0 0 0 0;\n",
              "      width: 32px;\n",
              "    }\n",
              "\n",
              "    .colab-df-convert:hover {\n",
              "      background-color: #E2EBFA;\n",
              "      box-shadow: 0px 1px 2px rgba(60, 64, 67, 0.3), 0px 1px 3px 1px rgba(60, 64, 67, 0.15);\n",
              "      fill: #174EA6;\n",
              "    }\n",
              "\n",
              "    .colab-df-buttons div {\n",
              "      margin-bottom: 4px;\n",
              "    }\n",
              "\n",
              "    [theme=dark] .colab-df-convert {\n",
              "      background-color: #3B4455;\n",
              "      fill: #D2E3FC;\n",
              "    }\n",
              "\n",
              "    [theme=dark] .colab-df-convert:hover {\n",
              "      background-color: #434B5C;\n",
              "      box-shadow: 0px 1px 3px 1px rgba(0, 0, 0, 0.15);\n",
              "      filter: drop-shadow(0px 1px 2px rgba(0, 0, 0, 0.3));\n",
              "      fill: #FFFFFF;\n",
              "    }\n",
              "  </style>\n",
              "\n",
              "    <script>\n",
              "      const buttonEl =\n",
              "        document.querySelector('#df-531bdec6-87ff-4008-a923-3266ded1cf7b button.colab-df-convert');\n",
              "      buttonEl.style.display =\n",
              "        google.colab.kernel.accessAllowed ? 'block' : 'none';\n",
              "\n",
              "      async function convertToInteractive(key) {\n",
              "        const element = document.querySelector('#df-531bdec6-87ff-4008-a923-3266ded1cf7b');\n",
              "        const dataTable =\n",
              "          await google.colab.kernel.invokeFunction('convertToInteractive',\n",
              "                                                    [key], {});\n",
              "        if (!dataTable) return;\n",
              "\n",
              "        const docLinkHtml = 'Like what you see? Visit the ' +\n",
              "          '<a target=\"_blank\" href=https://colab.research.google.com/notebooks/data_table.ipynb>data table notebook</a>'\n",
              "          + ' to learn more about interactive tables.';\n",
              "        element.innerHTML = '';\n",
              "        dataTable['output_type'] = 'display_data';\n",
              "        await google.colab.output.renderOutput(dataTable, element);\n",
              "        const docLink = document.createElement('div');\n",
              "        docLink.innerHTML = docLinkHtml;\n",
              "        element.appendChild(docLink);\n",
              "      }\n",
              "    </script>\n",
              "  </div>\n",
              "\n",
              "\n",
              "<div id=\"df-1ce4dde5-f6ac-4ac7-8d59-1ee481db3c78\">\n",
              "  <button class=\"colab-df-quickchart\" onclick=\"quickchart('df-1ce4dde5-f6ac-4ac7-8d59-1ee481db3c78')\"\n",
              "            title=\"Suggest charts\"\n",
              "            style=\"display:none;\">\n",
              "\n",
              "<svg xmlns=\"http://www.w3.org/2000/svg\" height=\"24px\"viewBox=\"0 0 24 24\"\n",
              "     width=\"24px\">\n",
              "    <g>\n",
              "        <path d=\"M19 3H5c-1.1 0-2 .9-2 2v14c0 1.1.9 2 2 2h14c1.1 0 2-.9 2-2V5c0-1.1-.9-2-2-2zM9 17H7v-7h2v7zm4 0h-2V7h2v10zm4 0h-2v-4h2v4z\"/>\n",
              "    </g>\n",
              "</svg>\n",
              "  </button>\n",
              "\n",
              "<style>\n",
              "  .colab-df-quickchart {\n",
              "      --bg-color: #E8F0FE;\n",
              "      --fill-color: #1967D2;\n",
              "      --hover-bg-color: #E2EBFA;\n",
              "      --hover-fill-color: #174EA6;\n",
              "      --disabled-fill-color: #AAA;\n",
              "      --disabled-bg-color: #DDD;\n",
              "  }\n",
              "\n",
              "  [theme=dark] .colab-df-quickchart {\n",
              "      --bg-color: #3B4455;\n",
              "      --fill-color: #D2E3FC;\n",
              "      --hover-bg-color: #434B5C;\n",
              "      --hover-fill-color: #FFFFFF;\n",
              "      --disabled-bg-color: #3B4455;\n",
              "      --disabled-fill-color: #666;\n",
              "  }\n",
              "\n",
              "  .colab-df-quickchart {\n",
              "    background-color: var(--bg-color);\n",
              "    border: none;\n",
              "    border-radius: 50%;\n",
              "    cursor: pointer;\n",
              "    display: none;\n",
              "    fill: var(--fill-color);\n",
              "    height: 32px;\n",
              "    padding: 0;\n",
              "    width: 32px;\n",
              "  }\n",
              "\n",
              "  .colab-df-quickchart:hover {\n",
              "    background-color: var(--hover-bg-color);\n",
              "    box-shadow: 0 1px 2px rgba(60, 64, 67, 0.3), 0 1px 3px 1px rgba(60, 64, 67, 0.15);\n",
              "    fill: var(--button-hover-fill-color);\n",
              "  }\n",
              "\n",
              "  .colab-df-quickchart-complete:disabled,\n",
              "  .colab-df-quickchart-complete:disabled:hover {\n",
              "    background-color: var(--disabled-bg-color);\n",
              "    fill: var(--disabled-fill-color);\n",
              "    box-shadow: none;\n",
              "  }\n",
              "\n",
              "  .colab-df-spinner {\n",
              "    border: 2px solid var(--fill-color);\n",
              "    border-color: transparent;\n",
              "    border-bottom-color: var(--fill-color);\n",
              "    animation:\n",
              "      spin 1s steps(1) infinite;\n",
              "  }\n",
              "\n",
              "  @keyframes spin {\n",
              "    0% {\n",
              "      border-color: transparent;\n",
              "      border-bottom-color: var(--fill-color);\n",
              "      border-left-color: var(--fill-color);\n",
              "    }\n",
              "    20% {\n",
              "      border-color: transparent;\n",
              "      border-left-color: var(--fill-color);\n",
              "      border-top-color: var(--fill-color);\n",
              "    }\n",
              "    30% {\n",
              "      border-color: transparent;\n",
              "      border-left-color: var(--fill-color);\n",
              "      border-top-color: var(--fill-color);\n",
              "      border-right-color: var(--fill-color);\n",
              "    }\n",
              "    40% {\n",
              "      border-color: transparent;\n",
              "      border-right-color: var(--fill-color);\n",
              "      border-top-color: var(--fill-color);\n",
              "    }\n",
              "    60% {\n",
              "      border-color: transparent;\n",
              "      border-right-color: var(--fill-color);\n",
              "    }\n",
              "    80% {\n",
              "      border-color: transparent;\n",
              "      border-right-color: var(--fill-color);\n",
              "      border-bottom-color: var(--fill-color);\n",
              "    }\n",
              "    90% {\n",
              "      border-color: transparent;\n",
              "      border-bottom-color: var(--fill-color);\n",
              "    }\n",
              "  }\n",
              "</style>\n",
              "\n",
              "  <script>\n",
              "    async function quickchart(key) {\n",
              "      const quickchartButtonEl =\n",
              "        document.querySelector('#' + key + ' button');\n",
              "      quickchartButtonEl.disabled = true;  // To prevent multiple clicks.\n",
              "      quickchartButtonEl.classList.add('colab-df-spinner');\n",
              "      try {\n",
              "        const charts = await google.colab.kernel.invokeFunction(\n",
              "            'suggestCharts', [key], {});\n",
              "      } catch (error) {\n",
              "        console.error('Error during call to suggestCharts:', error);\n",
              "      }\n",
              "      quickchartButtonEl.classList.remove('colab-df-spinner');\n",
              "      quickchartButtonEl.classList.add('colab-df-quickchart-complete');\n",
              "    }\n",
              "    (() => {\n",
              "      let quickchartButtonEl =\n",
              "        document.querySelector('#df-1ce4dde5-f6ac-4ac7-8d59-1ee481db3c78 button');\n",
              "      quickchartButtonEl.style.display =\n",
              "        google.colab.kernel.accessAllowed ? 'block' : 'none';\n",
              "    })();\n",
              "  </script>\n",
              "</div>\n",
              "\n",
              "    </div>\n",
              "  </div>\n"
            ],
            "application/vnd.google.colaboratory.intrinsic+json": {
              "type": "dataframe",
              "summary": "{\n  \"name\": \"df\",\n  \"rows\": 2,\n  \"fields\": [\n    {\n      \"column\": \"Marital_Status\",\n      \"properties\": {\n        \"dtype\": \"number\",\n        \"std\": 0,\n        \"min\": 0,\n        \"max\": 1,\n        \"num_unique_values\": 2,\n        \"samples\": [\n          1,\n          0\n        ],\n        \"semantic_type\": \"\",\n        \"description\": \"\"\n      }\n    },\n    {\n      \"column\": \"count\",\n      \"properties\": {\n        \"dtype\": \"number\",\n        \"std\": 70282.17140925571,\n        \"min\": 225337.0,\n        \"max\": 324731.0,\n        \"num_unique_values\": 2,\n        \"samples\": [\n          225337.0,\n          324731.0\n        ],\n        \"semantic_type\": \"\",\n        \"description\": \"\"\n      }\n    },\n    {\n      \"column\": \"mean\",\n      \"properties\": {\n        \"dtype\": \"number\",\n        \"std\": 3.346768101410987,\n        \"min\": 9261.174574082374,\n        \"max\": 9265.907618921507,\n        \"num_unique_values\": 2,\n        \"samples\": [\n          9261.174574082374,\n          9265.907618921507\n        ],\n        \"semantic_type\": \"\",\n        \"description\": \"\"\n      }\n    },\n    {\n      \"column\": \"std\",\n      \"properties\": {\n        \"dtype\": \"number\",\n        \"std\": 7.3896058978937535,\n        \"min\": 5016.897377793055,\n        \"max\": 5027.347858674449,\n        \"num_unique_values\": 2,\n        \"samples\": [\n          5016.897377793055,\n          5027.347858674449\n        ],\n        \"semantic_type\": \"\",\n        \"description\": \"\"\n      }\n    },\n    {\n      \"column\": \"min\",\n      \"properties\": {\n        \"dtype\": \"number\",\n        \"std\": 0.0,\n        \"min\": 12.0,\n        \"max\": 12.0,\n        \"num_unique_values\": 1,\n        \"samples\": [\n          12.0\n        ],\n        \"semantic_type\": \"\",\n        \"description\": \"\"\n      }\n    },\n    {\n      \"column\": \"25%\",\n      \"properties\": {\n        \"dtype\": \"number\",\n        \"std\": 168.2914139223983,\n        \"min\": 5605.0,\n        \"max\": 5843.0,\n        \"num_unique_values\": 2,\n        \"samples\": [\n          5843.0\n        ],\n        \"semantic_type\": \"\",\n        \"description\": \"\"\n      }\n    },\n    {\n      \"column\": \"50%\",\n      \"properties\": {\n        \"dtype\": \"number\",\n        \"std\": 4.949747468305833,\n        \"min\": 8044.0,\n        \"max\": 8051.0,\n        \"num_unique_values\": 2,\n        \"samples\": [\n          8051.0\n        ],\n        \"semantic_type\": \"\",\n        \"description\": \"\"\n      }\n    },\n    {\n      \"column\": \"75%\",\n      \"properties\": {\n        \"dtype\": \"number\",\n        \"std\": 13.435028842544403,\n        \"min\": 12042.0,\n        \"max\": 12061.0,\n        \"num_unique_values\": 2,\n        \"samples\": [\n          12042.0\n        ],\n        \"semantic_type\": \"\",\n        \"description\": \"\"\n      }\n    },\n    {\n      \"column\": \"max\",\n      \"properties\": {\n        \"dtype\": \"number\",\n        \"std\": 0.0,\n        \"min\": 23961.0,\n        \"max\": 23961.0,\n        \"num_unique_values\": 1,\n        \"samples\": [\n          23961.0\n        ],\n        \"semantic_type\": \"\",\n        \"description\": \"\"\n      }\n    }\n  ]\n}"
            }
          },
          "metadata": {},
          "execution_count": 91
        }
      ]
    },
    {
      "cell_type": "code",
      "source": [
        "#At 95% confidence level\n",
        "#z score=1.96\n",
        "n=1000\n",
        "iteration=1000\n",
        "married_sample_mean=[df[df[\"Marital_Status\"]==1].sample(n,replace=True)[\"Purchase\"].mean() for i in range(iteration)]\n",
        "np.mean(married_sample_mean)"
      ],
      "metadata": {
        "id": "_KCcGqlqmf8y",
        "outputId": "be8b66d3-3e9c-42fd-d538-f71b7cf9bda9",
        "colab": {
          "base_uri": "https://localhost:8080/"
        }
      },
      "id": "_KCcGqlqmf8y",
      "execution_count": 94,
      "outputs": [
        {
          "output_type": "execute_result",
          "data": {
            "text/plain": [
              "9264.952997"
            ]
          },
          "metadata": {},
          "execution_count": 94
        }
      ]
    },
    {
      "cell_type": "code",
      "source": [
        "n=1000\n",
        "iteration=1000\n",
        "unmarried_sample_mean=[df[df[\"Marital_Status\"]==0].sample(n,replace=True)[\"Purchase\"].mean() for i in range(iteration)]\n",
        "np.mean(unmarried_sample_mean)"
      ],
      "metadata": {
        "id": "_leZ9PoypdyA",
        "outputId": "f6519859-9d62-4a19-ff86-a66b32372c39",
        "colab": {
          "base_uri": "https://localhost:8080/"
        }
      },
      "id": "_leZ9PoypdyA",
      "execution_count": 95,
      "outputs": [
        {
          "output_type": "execute_result",
          "data": {
            "text/plain": [
              "9259.966431"
            ]
          },
          "metadata": {},
          "execution_count": 95
        }
      ]
    },
    {
      "cell_type": "code",
      "source": [
        "\n",
        "\n",
        "fig, axis = plt.subplots(nrows=1, ncols=2, figsize=(20, 6))\n",
        "\n",
        "axis[0].hist(married_sample_mean, bins=35)\n",
        "axis[1].hist(unmarried_sample_mean, bins=35)\n",
        "axis[0].set_title(\"Married distribution of means, Sample size: 1000\")\n",
        "axis[1].set_title(\"Unmarried distribution of means, Sample size: 1000\")\n",
        "\n",
        "plt.show()"
      ],
      "metadata": {
        "id": "503iMGYlsjF0",
        "outputId": "a85c0070-85ca-4fd5-b2bf-26001feafc04",
        "colab": {
          "base_uri": "https://localhost:8080/",
          "height": 438
        }
      },
      "id": "503iMGYlsjF0",
      "execution_count": 96,
      "outputs": [
        {
          "output_type": "display_data",
          "data": {
            "text/plain": [
              "<Figure size 2000x600 with 2 Axes>"
            ],
            "image/png": "[encoded data removed]"
          },
          "metadata": {}
        }
      ]
    },
    {
      "cell_type": "markdown",
      "source": [
        "The means sample seems to be normally distributed for both married and singles. Also, we can see the mean of the sample means are closer to the population mean as per central limit theorem.\n"
      ],
      "metadata": {
        "id": "AKWTqBUcs7v5"
      },
      "id": "AKWTqBUcs7v5"
    },
    {
      "cell_type": "markdown",
      "source": [
        "CLT and Confidence interval considering marital status"
      ],
      "metadata": {
        "id": "vRADO5QQonI-"
      },
      "id": "vRADO5QQonI-"
    },
    {
      "cell_type": "code",
      "source": [
        "#At 95% confidence interval\n",
        "married_lower_range = np.mean(married_sample_mean) - 1.96 * np.std(married_sample_mean)\n",
        "married_upper_range=np.mean(married_sample_mean) + 1.96 * np.std(married_sample_mean)"
      ],
      "metadata": {
        "id": "XfCXhNkWoFMR"
      },
      "id": "XfCXhNkWoFMR",
      "execution_count": 97,
      "outputs": []
    },
    {
      "cell_type": "code",
      "source": [
        "(married_lower_range,married_upper_range)"
      ],
      "metadata": {
        "id": "rDo8R338ogJg",
        "outputId": "4a53a0c2-5668-4442-ec4e-6a37778e05a1",
        "colab": {
          "base_uri": "https://localhost:8080/"
        }
      },
      "id": "rDo8R338ogJg",
      "execution_count": 98,
      "outputs": [
        {
          "output_type": "execute_result",
          "data": {
            "text/plain": [
              "(8951.951291104915, 9577.954702895086)"
            ]
          },
          "metadata": {},
          "execution_count": 98
        }
      ]
    },
    {
      "cell_type": "code",
      "source": [
        "unmarried_lower_range = np.mean(unmarried_sample_mean) - 1.96 * np.std(unmarried_sample_mean)\n",
        "unmarried_upper_range=np.mean(unmarried_sample_mean) + 1.96 * np.std(unmarried_sample_mean)"
      ],
      "metadata": {
        "id": "uW4aGlZLpG5w"
      },
      "id": "uW4aGlZLpG5w",
      "execution_count": 100,
      "outputs": []
    },
    {
      "cell_type": "code",
      "source": [
        "(unmarried_lower_range,unmarried_upper_range)"
      ],
      "metadata": {
        "id": "gtwR7MippJaM",
        "outputId": "fc52f2a5-1e9e-4da7-b654-138fbaae2d54",
        "colab": {
          "base_uri": "https://localhost:8080/"
        }
      },
      "id": "gtwR7MippJaM",
      "execution_count": 101,
      "outputs": [
        {
          "output_type": "execute_result",
          "data": {
            "text/plain": [
              "(8932.271399240743, 9587.661462759259)"
            ]
          },
          "metadata": {},
          "execution_count": 101
        }
      ]
    },
    {
      "cell_type": "markdown",
      "source": [
        " At 95% confifedence level there overlapping between married and unmaaried people .we can't conclude who is spend total amount of purchase."
      ],
      "metadata": {
        "id": "SJlIn1KmtVB2"
      },
      "id": "SJlIn1KmtVB2"
    },
    {
      "cell_type": "code",
      "source": [
        "#At 90% confidence interval\n",
        "married_lower_range = np.mean(married_sample_mean) - 1.645 * np.std(married_sample_mean)\n",
        "married_upper_range=np.mean(married_sample_mean) + 1.645 * np.std(married_sample_mean)"
      ],
      "metadata": {
        "id": "Ncs2QxIUo-eB"
      },
      "id": "Ncs2QxIUo-eB",
      "execution_count": 103,
      "outputs": []
    },
    {
      "cell_type": "code",
      "source": [
        "(married_lower_range,married_upper_range)"
      ],
      "metadata": {
        "id": "s511-x5juRhq",
        "outputId": "9666917b-4c1d-469e-dd8d-debea82ae778",
        "colab": {
          "base_uri": "https://localhost:8080/"
        }
      },
      "id": "s511-x5juRhq",
      "execution_count": 104,
      "outputs": [
        {
          "output_type": "execute_result",
          "data": {
            "text/plain": [
              "(9002.255136695196, 9527.650857304805)"
            ]
          },
          "metadata": {},
          "execution_count": 104
        }
      ]
    },
    {
      "cell_type": "code",
      "source": [
        "unmarried_lower_range = np.mean(unmarried_sample_mean) - 1.645 * np.std(unmarried_sample_mean)\n",
        "unmarried_upper_range=np.mean(unmarried_sample_mean) + 1.645 * np.std(unmarried_sample_mean)"
      ],
      "metadata": {
        "id": "fJcr6YdUucxk"
      },
      "id": "fJcr6YdUucxk",
      "execution_count": 106,
      "outputs": []
    },
    {
      "cell_type": "code",
      "source": [
        "(unmarried_lower_range,unmarried_upper_range)"
      ],
      "metadata": {
        "id": "TE_kEZa-uiEf",
        "outputId": "a0053261-0efa-4217-b425-331823cdb379",
        "colab": {
          "base_uri": "https://localhost:8080/"
        }
      },
      "id": "TE_kEZa-uiEf",
      "execution_count": 107,
      "outputs": [
        {
          "output_type": "execute_result",
          "data": {
            "text/plain": [
              "(8984.936672202053, 9534.996189797948)"
            ]
          },
          "metadata": {},
          "execution_count": 107
        }
      ]
    },
    {
      "cell_type": "code",
      "source": [
        "#At 99% confidence level\n"
      ],
      "metadata": {
        "id": "FHLZfhEgu1X8"
      },
      "id": "FHLZfhEgu1X8",
      "execution_count": null,
      "outputs": []
    },
    {
      "cell_type": "code",
      "source": [
        "married_lower_range = np.mean(married_sample_mean) - 2.57 * np.std(married_sample_mean)\n",
        "married_upper_range=np.mean(married_sample_mean) + 2.57* np.std(married_sample_mean)"
      ],
      "metadata": {
        "id": "mvx4iFs_vJqT"
      },
      "id": "mvx4iFs_vJqT",
      "execution_count": 109,
      "outputs": []
    },
    {
      "cell_type": "code",
      "source": [
        "(married_lower_range,married_upper_range)"
      ],
      "metadata": {
        "id": "Z8WP4IrIvNcI",
        "outputId": "ab1b9e56-e893-4f84-8a3d-d5d48423dbc7",
        "colab": {
          "base_uri": "https://localhost:8080/"
        }
      },
      "id": "Z8WP4IrIvNcI",
      "execution_count": 110,
      "outputs": [
        {
          "output_type": "execute_result",
          "data": {
            "text/plain": [
              "(8854.537494882465, 9675.368499117536)"
            ]
          },
          "metadata": {},
          "execution_count": 110
        }
      ]
    },
    {
      "cell_type": "code",
      "source": [
        "unmarried_lower_range = np.mean(unmarried_sample_mean) - 2.57 * np.std(unmarried_sample_mean)\n",
        "unmarried_upper_range=np.mean(unmarried_sample_mean) + 2.57 * np.std(unmarried_sample_mean)"
      ],
      "metadata": {
        "id": "4XzojneovT7J"
      },
      "id": "4XzojneovT7J",
      "execution_count": 111,
      "outputs": []
    },
    {
      "cell_type": "code",
      "source": [
        "(unmarried_lower_range,unmarried_upper_range)"
      ],
      "metadata": {
        "id": "A1z0stR-vW-w",
        "outputId": "dc3cb84a-b0ce-4fe7-d5d8-d60838e6c7a5",
        "colab": {
          "base_uri": "https://localhost:8080/"
        }
      },
      "id": "A1z0stR-vW-w",
      "execution_count": 112,
      "outputs": [
        {
          "output_type": "execute_result",
          "data": {
            "text/plain": [
              "(8830.28468017281, 9689.648181827191)"
            ]
          },
          "metadata": {},
          "execution_count": 112
        }
      ]
    },
    {
      "cell_type": "markdown",
      "source": [
        "# Results when the same activity is performed for Age"
      ],
      "metadata": {
        "id": "Tm8hdV0dxWLh"
      },
      "id": "Tm8hdV0dxWLh"
    },
    {
      "cell_type": "code",
      "source": [
        "_n=500\n",
        "iteration=1000\n",
        "age1_sample_mean=[df[df[\"Age\"]==\"0-17\"].sample(n,replace=True)[\"Purchase\"].mean() for i in range(iteration)]\n",
        "np.mean(age1_sample_mean)"
      ],
      "metadata": {
        "id": "8g0S6e4Lxb78",
        "outputId": "a97888d5-7ecb-4959-9a21-31abb37e3ca5",
        "colab": {
          "base_uri": "https://localhost:8080/"
        }
      },
      "id": "8g0S6e4Lxb78",
      "execution_count": 116,
      "outputs": [
        {
          "output_type": "execute_result",
          "data": {
            "text/plain": [
              "8930.633535"
            ]
          },
          "metadata": {},
          "execution_count": 116
        }
      ]
    },
    {
      "cell_type": "code",
      "source": [
        "n=500\n",
        "iteration=1000\n",
        "age2_sample_mean=[df[df[\"Age\"]==\"18-25\"].sample(n,replace=True)[\"Purchase\"].mean() for i in range(iteration)]\n",
        "np.mean(age2_sample_mean)"
      ],
      "metadata": {
        "id": "oA9i0qabxQti",
        "outputId": "89e1592d-fd10-4a87-e024-74afa8b0958b",
        "colab": {
          "base_uri": "https://localhost:8080/"
        }
      },
      "id": "oA9i0qabxQti",
      "execution_count": 118,
      "outputs": [
        {
          "output_type": "execute_result",
          "data": {
            "text/plain": [
              "9157.72066"
            ]
          },
          "metadata": {},
          "execution_count": 118
        }
      ]
    },
    {
      "cell_type": "code",
      "source": [
        "n=500\n",
        "iteration=1000\n",
        "age3_sample_mean=[df[df[\"Age\"]==\"26-35\"].sample(n,replace=True)[\"Purchase\"].mean() for i in range(iteration)]\n",
        "np.mean(age3_sample_mean)"
      ],
      "metadata": {
        "id": "UeRsd3qYzEOU",
        "outputId": "b01630c5-f387-45db-9e5f-9237844b30bb",
        "colab": {
          "base_uri": "https://localhost:8080/"
        }
      },
      "id": "UeRsd3qYzEOU",
      "execution_count": 119,
      "outputs": [
        {
          "output_type": "execute_result",
          "data": {
            "text/plain": [
              "9266.996248"
            ]
          },
          "metadata": {},
          "execution_count": 119
        }
      ]
    },
    {
      "cell_type": "markdown",
      "source": [
        "Average amount spent more by age group \"18-25\"."
      ],
      "metadata": {
        "id": "FxKN6CQ_0ukr"
      },
      "id": "FxKN6CQ_0ukr"
    },
    {
      "cell_type": "code",
      "source": [
        "#calculate CLT at 99% confidence level\n",
        "age1_lower_range = np.mean(age1_sample_mean) - 2.57 * np.std(age1_sample_mean)\n",
        "age1_upper_range=np.mean(age1_sample_mean) + 2.57* np.std(age1_sample_mean)"
      ],
      "metadata": {
        "id": "nAd8UfLky_Me"
      },
      "id": "nAd8UfLky_Me",
      "execution_count": 123,
      "outputs": []
    },
    {
      "cell_type": "code",
      "source": [
        "(age1_lower_range,age1_upper_range)"
      ],
      "metadata": {
        "id": "FuYW68Su1b1P",
        "outputId": "bd902eda-c519-4513-9d97-f7e74a1bc9c1",
        "colab": {
          "base_uri": "https://localhost:8080/"
        }
      },
      "id": "FuYW68Su1b1P",
      "execution_count": 124,
      "outputs": [
        {
          "output_type": "execute_result",
          "data": {
            "text/plain": [
              "(8515.121941431433, 9346.145128568569)"
            ]
          },
          "metadata": {},
          "execution_count": 124
        }
      ]
    },
    {
      "cell_type": "code",
      "source": [
        "age2_lower_range = np.mean(age2_sample_mean) - 2.57 * np.std(age2_sample_mean)\n",
        "age2_upper_range=np.mean(age2_sample_mean) + 2.57* np.std(age2_sample_mean)"
      ],
      "metadata": {
        "id": "y-zxkVKE1jLl"
      },
      "id": "y-zxkVKE1jLl",
      "execution_count": 127,
      "outputs": []
    },
    {
      "cell_type": "code",
      "source": [
        "(age2_lower_range,age2_upper_range)"
      ],
      "metadata": {
        "id": "Da7a0L-I1wCx",
        "outputId": "dd8d2f63-0ba3-4e79-837f-f2e075265ac4",
        "colab": {
          "base_uri": "https://localhost:8080/"
        }
      },
      "id": "Da7a0L-I1wCx",
      "execution_count": 128,
      "outputs": [
        {
          "output_type": "execute_result",
          "data": {
            "text/plain": [
              "(8599.155393468754, 9716.285926531247)"
            ]
          },
          "metadata": {},
          "execution_count": 128
        }
      ]
    },
    {
      "cell_type": "code",
      "source": [
        "age3_lower_range = np.mean(age3_sample_mean) - 2.57 * np.std(age3_sample_mean)\n",
        "age3_upper_range=np.mean(age3_sample_mean) + 2.57* np.std(age3_sample_mean)"
      ],
      "metadata": {
        "id": "1vU6y1Qu2N0o"
      },
      "id": "1vU6y1Qu2N0o",
      "execution_count": 129,
      "outputs": []
    },
    {
      "cell_type": "code",
      "source": [
        "(age3_lower_range,age3_upper_range)"
      ],
      "metadata": {
        "id": "Fd0BQJC_2bxl",
        "outputId": "99851d89-ca47-4b8c-a078-f2f1a4c44370",
        "colab": {
          "base_uri": "https://localhost:8080/"
        }
      },
      "id": "Fd0BQJC_2bxl",
      "execution_count": 130,
      "outputs": [
        {
          "output_type": "execute_result",
          "data": {
            "text/plain": [
              "(8699.2279874901, 9834.7645085099)"
            ]
          },
          "metadata": {},
          "execution_count": 130
        }
      ]
    },
    {
      "cell_type": "markdown",
      "source": [
        "With reference to the above data, at a 95% confidence interval:\n",
        "\n",
        "a) The highest average amount spent by 26- to 35-year-old customers.\n",
        "it is clear that the age group 26 to 35 spends more compared to other age categories.\n",
        "\n",
        "Confidence intervals for average 26- to 35-year-old and 36- to 45-year-old spending are not overlapping."
      ],
      "metadata": {
        "id": "Wxwcb9NC2niD"
      },
      "id": "Wxwcb9NC2niD"
    },
    {
      "cell_type": "markdown",
      "source": [
        "# Recommendations"
      ],
      "metadata": {
        "id": "aiQ5zxPA3hgg"
      },
      "id": "aiQ5zxPA3hgg"
    },
    {
      "cell_type": "markdown",
      "source": [
        " The company should target the age category between 26 and 35, as they spend more money compared to others.\n",
        "\n",
        "1) Men spend more money than women, so the company should focus on retaining male customers and getting more male customers.\n",
        "\n",
        "2) Product Category: 5, 1, and 8 have the highest purchasing frequency.\n",
        "It means the products in these categories are liked more by customers.\n",
        "The company can focus on selling more of these products.\n",
        "\n",
        "3) Product Category: 11, 2, and 6, 3 have almost close competition in purchasing.\n",
        "\n",
        "The company can focus on selling more of these products.\n",
        "\n",
        "4) Unmarried customers spend more money compared to married customers. So the company should focus on retaining the unmarried customers and getting more unmarried customers.\n",
        "\n",
        "5) Customers living in City_Category C spend more money than other customers living in B or A. Selling more products in City Category C will help the company increase sales."
      ],
      "metadata": {
        "id": "O2pYPL4E3BqW"
      },
      "id": "O2pYPL4E3BqW"
    }
  ],
  "metadata": {
    "kernelspec": {
      "display_name": "Python 3 (ipykernel)",
      "language": "python",
      "name": "python3"
    },
    "language_info": {
      "codemirror_mode": {
        "name": "ipython",
        "version": 3
      },
      "file_extension": ".py",
      "mimetype": "text/x-python",
      "name": "python",
      "nbconvert_exporter": "python",
      "pygments_lexer": "ipython3",
      "version": "3.9.12"
    },
    "colab": {
      "provenance": [],
      "include_colab_link": true
    }
  },
  "nbformat": 4,
  "nbformat_minor": 5
}